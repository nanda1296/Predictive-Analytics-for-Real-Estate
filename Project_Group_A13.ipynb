{
  "nbformat": 4,
  "nbformat_minor": 0,
  "metadata": {
    "colab": {
      "provenance": [],
      "include_colab_link": true
    },
    "kernelspec": {
      "name": "python3",
      "display_name": "Python 3"
    },
    "language_info": {
      "name": "python"
    }
  },
  "cells": [
    {
      "cell_type": "markdown",
      "metadata": {
        "id": "view-in-github",
        "colab_type": "text"
      },
      "source": [
        "<a href=\"https://colab.research.google.com/github/nanda1296/Predictive-Analytics-for-Real-Estate/blob/Different_models/Project_Group_A13.ipynb\" target=\"_parent\"><img src=\"https://colab.research.google.com/assets/colab-badge.svg\" alt=\"Open In Colab\"/></a>"
      ]
    },
    {
      "cell_type": "code",
      "source": [
        "from google.colab import drive\n",
        "drive.mount('/content/drive')"
      ],
      "metadata": {
        "id": "-yTS4jABSH5V",
        "colab": {
          "base_uri": "https://localhost:8080/"
        },
        "outputId": "d3b588c4-be88-4f8d-f930-c18ccd44a3d9"
      },
      "execution_count": 2,
      "outputs": [
        {
          "output_type": "stream",
          "name": "stdout",
          "text": [
            "Mounted at /content/drive\n"
          ]
        }
      ]
    },
    {
      "cell_type": "code",
      "execution_count": 3,
      "metadata": {
        "id": "lgGokGmK8isi"
      },
      "outputs": [],
      "source": [
        "import pandas as pd\n",
        "import numpy as np\n",
        "import matplotlib.pyplot as plt\n",
        "import seaborn as sns"
      ]
    },
    {
      "cell_type": "code",
      "source": [
        "#checking the data types of all the features\n",
        "df.info()"
      ],
      "metadata": {
        "colab": {
          "base_uri": "https://localhost:8080/"
        },
        "id": "_hePhY-3Lhek",
        "outputId": "3bcfa9e2-785e-45a1-801a-1287e7406a9e"
      },
      "execution_count": 6,
      "outputs": [
        {
          "output_type": "stream",
          "name": "stdout",
          "text": [
            "<class 'pandas.core.frame.DataFrame'>\n",
            "RangeIndex: 56636 entries, 0 to 56635\n",
            "Data columns (total 24 columns):\n",
            " #   Column                             Non-Null Count  Dtype         \n",
            "---  ------                             --------------  -----         \n",
            " 0   Land Use                           56636 non-null  object        \n",
            " 1   Property Address                   56477 non-null  object        \n",
            " 2   Suite/ RESIDENTIAL CONDO#          6109 non-null   object        \n",
            " 3   Sale Date                          56636 non-null  datetime64[ns]\n",
            " 4   Sale Price                         56636 non-null  int64         \n",
            " 5   Legal Reference                    56636 non-null  object        \n",
            " 6   Sold As Vacant                     56636 non-null  object        \n",
            " 7   Multiple Parcels Involved in Sale  56636 non-null  object        \n",
            " 8   Owner Name                         25261 non-null  object        \n",
            " 9   Address                            26017 non-null  object        \n",
            " 10  Acreage                            26017 non-null  float64       \n",
            " 11  Tax District                       26017 non-null  object        \n",
            " 12  Neighborhood                       26017 non-null  float64       \n",
            " 13  Land Value                         26017 non-null  float64       \n",
            " 14  Building Value                     26017 non-null  float64       \n",
            " 15  Total Value                        26017 non-null  float64       \n",
            " 16  Finished Area                      24166 non-null  float64       \n",
            " 17  Foundation Type                    24164 non-null  object        \n",
            " 18  Year Built                         24165 non-null  float64       \n",
            " 19  Exterior Wall                      24165 non-null  object        \n",
            " 20  Grade                              24165 non-null  object        \n",
            " 21  Bedrooms                           24159 non-null  float64       \n",
            " 22  Full Bath                          24277 non-null  float64       \n",
            " 23  Half Bath                          24146 non-null  float64       \n",
            "dtypes: datetime64[ns](1), float64(10), int64(1), object(12)\n",
            "memory usage: 10.4+ MB\n"
          ]
        }
      ]
    },
    {
      "cell_type": "code",
      "source": [
        "#Checking for null values of each feature\n",
        "df.isnull().sum().sort_values(ascending=False)"
      ],
      "metadata": {
        "colab": {
          "base_uri": "https://localhost:8080/"
        },
        "id": "57fcMNFRMSW_",
        "outputId": "486fe338-7852-43f1-bd7a-3023bfb69c29"
      },
      "execution_count": 7,
      "outputs": [
        {
          "output_type": "execute_result",
          "data": {
            "text/plain": [
              "Suite/ RESIDENTIAL CONDO#            50527\n",
              "Half Bath                            32490\n",
              "Bedrooms                             32477\n",
              "Foundation Type                      32472\n",
              "Grade                                32471\n",
              "Exterior Wall                        32471\n",
              "Year Built                           32471\n",
              "Finished Area                        32470\n",
              "Full Bath                            32359\n",
              "Owner Name                           31375\n",
              "Land Value                           30619\n",
              "Total Value                          30619\n",
              "Building Value                       30619\n",
              "Neighborhood                         30619\n",
              "Tax District                         30619\n",
              "Acreage                              30619\n",
              "Address                              30619\n",
              "Property Address                       159\n",
              "Multiple Parcels Involved in Sale        0\n",
              "Sold As Vacant                           0\n",
              "Legal Reference                          0\n",
              "Sale Price                               0\n",
              "Sale Date                                0\n",
              "Land Use                                 0\n",
              "dtype: int64"
            ]
          },
          "metadata": {},
          "execution_count": 7
        }
      ]
    },
    {
      "cell_type": "code",
      "source": [
        "#Checking for unique rows in each feature\n",
        "df.nunique().sort_values(ascending=False)"
      ],
      "metadata": {
        "colab": {
          "base_uri": "https://localhost:8080/"
        },
        "id": "bidoEPTJesvs",
        "outputId": "b17f01bb-8563-4c6e-fb8c-6573a1e2b69f"
      },
      "execution_count": 8,
      "outputs": [
        {
          "output_type": "execute_result",
          "data": {
            "text/plain": [
              "Legal Reference                      52898\n",
              "Property Address                     45068\n",
              "Address                              22327\n",
              "Owner Name                           19713\n",
              "Sale Price                            8085\n",
              "Finished Area                         6117\n",
              "Total Value                           5848\n",
              "Building Value                        4406\n",
              "Suite/ RESIDENTIAL CONDO#             1475\n",
              "Land Value                            1122\n",
              "Sale Date                             1117\n",
              "Acreage                                519\n",
              "Neighborhood                           203\n",
              "Year Built                             126\n",
              "Land Use                                35\n",
              "Grade                                   20\n",
              "Bedrooms                                12\n",
              "Full Bath                               11\n",
              "Exterior Wall                           10\n",
              "Tax District                             7\n",
              "Foundation Type                          6\n",
              "Half Bath                                4\n",
              "Multiple Parcels Involved in Sale        2\n",
              "Sold As Vacant                           2\n",
              "dtype: int64"
            ]
          },
          "metadata": {},
          "execution_count": 8
        }
      ]
    },
    {
      "cell_type": "code",
      "source": [
        "df.describe()"
      ],
      "metadata": {
        "colab": {
          "base_uri": "https://localhost:8080/",
          "height": 300
        },
        "id": "2fDHIIfRfTE1",
        "outputId": "0dec4835-5f60-4377-971c-5f1bc147bfdd"
      },
      "execution_count": 9,
      "outputs": [
        {
          "output_type": "execute_result",
          "data": {
            "text/plain": [
              "         Sale Price       Acreage  Neighborhood    Land Value  Building Value  \\\n",
              "count  5.663600e+04  26017.000000  26017.000000  2.601700e+04    2.601700e+04   \n",
              "mean   3.272111e+05      0.498903   4356.215782  6.907267e+04    1.608025e+05   \n",
              "std    9.287425e+05      1.570396   2170.348270  1.060405e+05    2.068041e+05   \n",
              "min    5.000000e+01      0.010000    107.000000  1.000000e+02    0.000000e+00   \n",
              "25%    1.350000e+05      0.180000   3126.000000  2.100000e+04    7.590000e+04   \n",
              "50%    2.054500e+05      0.270000   3929.000000  2.880000e+04    1.114000e+05   \n",
              "75%    3.290000e+05      0.450000   6228.000000  6.000000e+04    1.807000e+05   \n",
              "max    5.427806e+07    160.060000   9530.000000  2.772000e+06    1.297180e+07   \n",
              "\n",
              "        Total Value  Finished Area    Year Built      Bedrooms     Full Bath  \\\n",
              "count  2.601700e+04   24166.000000  24165.000000  24159.000000  24277.000000   \n",
              "mean   2.323971e+05    1926.954345   1963.749224      3.090029      1.886106   \n",
              "std    2.810703e+05    1687.017313     26.546141      0.852942      0.961572   \n",
              "min    1.000000e+02       0.000000   1799.000000      0.000000      0.000000   \n",
              "25%    1.028000e+05    1239.000000   1948.000000      3.000000      1.000000   \n",
              "50%    1.485000e+05    1632.000000   1960.000000      3.000000      2.000000   \n",
              "75%    2.685000e+05    2212.000000   1983.000000      3.000000      2.000000   \n",
              "max    1.394040e+07  197988.000000   2017.000000     11.000000     10.000000   \n",
              "\n",
              "          Half Bath  \n",
              "count  24146.000000  \n",
              "mean       0.283981  \n",
              "std        0.487905  \n",
              "min        0.000000  \n",
              "25%        0.000000  \n",
              "50%        0.000000  \n",
              "75%        1.000000  \n",
              "max        3.000000  "
            ],
            "text/html": [
              "\n",
              "  <div id=\"df-5f844f7a-c90b-4a84-bce5-0089273f8777\">\n",
              "    <div class=\"colab-df-container\">\n",
              "      <div>\n",
              "<style scoped>\n",
              "    .dataframe tbody tr th:only-of-type {\n",
              "        vertical-align: middle;\n",
              "    }\n",
              "\n",
              "    .dataframe tbody tr th {\n",
              "        vertical-align: top;\n",
              "    }\n",
              "\n",
              "    .dataframe thead th {\n",
              "        text-align: right;\n",
              "    }\n",
              "</style>\n",
              "<table border=\"1\" class=\"dataframe\">\n",
              "  <thead>\n",
              "    <tr style=\"text-align: right;\">\n",
              "      <th></th>\n",
              "      <th>Sale Price</th>\n",
              "      <th>Acreage</th>\n",
              "      <th>Neighborhood</th>\n",
              "      <th>Land Value</th>\n",
              "      <th>Building Value</th>\n",
              "      <th>Total Value</th>\n",
              "      <th>Finished Area</th>\n",
              "      <th>Year Built</th>\n",
              "      <th>Bedrooms</th>\n",
              "      <th>Full Bath</th>\n",
              "      <th>Half Bath</th>\n",
              "    </tr>\n",
              "  </thead>\n",
              "  <tbody>\n",
              "    <tr>\n",
              "      <th>count</th>\n",
              "      <td>5.663600e+04</td>\n",
              "      <td>26017.000000</td>\n",
              "      <td>26017.000000</td>\n",
              "      <td>2.601700e+04</td>\n",
              "      <td>2.601700e+04</td>\n",
              "      <td>2.601700e+04</td>\n",
              "      <td>24166.000000</td>\n",
              "      <td>24165.000000</td>\n",
              "      <td>24159.000000</td>\n",
              "      <td>24277.000000</td>\n",
              "      <td>24146.000000</td>\n",
              "    </tr>\n",
              "    <tr>\n",
              "      <th>mean</th>\n",
              "      <td>3.272111e+05</td>\n",
              "      <td>0.498903</td>\n",
              "      <td>4356.215782</td>\n",
              "      <td>6.907267e+04</td>\n",
              "      <td>1.608025e+05</td>\n",
              "      <td>2.323971e+05</td>\n",
              "      <td>1926.954345</td>\n",
              "      <td>1963.749224</td>\n",
              "      <td>3.090029</td>\n",
              "      <td>1.886106</td>\n",
              "      <td>0.283981</td>\n",
              "    </tr>\n",
              "    <tr>\n",
              "      <th>std</th>\n",
              "      <td>9.287425e+05</td>\n",
              "      <td>1.570396</td>\n",
              "      <td>2170.348270</td>\n",
              "      <td>1.060405e+05</td>\n",
              "      <td>2.068041e+05</td>\n",
              "      <td>2.810703e+05</td>\n",
              "      <td>1687.017313</td>\n",
              "      <td>26.546141</td>\n",
              "      <td>0.852942</td>\n",
              "      <td>0.961572</td>\n",
              "      <td>0.487905</td>\n",
              "    </tr>\n",
              "    <tr>\n",
              "      <th>min</th>\n",
              "      <td>5.000000e+01</td>\n",
              "      <td>0.010000</td>\n",
              "      <td>107.000000</td>\n",
              "      <td>1.000000e+02</td>\n",
              "      <td>0.000000e+00</td>\n",
              "      <td>1.000000e+02</td>\n",
              "      <td>0.000000</td>\n",
              "      <td>1799.000000</td>\n",
              "      <td>0.000000</td>\n",
              "      <td>0.000000</td>\n",
              "      <td>0.000000</td>\n",
              "    </tr>\n",
              "    <tr>\n",
              "      <th>25%</th>\n",
              "      <td>1.350000e+05</td>\n",
              "      <td>0.180000</td>\n",
              "      <td>3126.000000</td>\n",
              "      <td>2.100000e+04</td>\n",
              "      <td>7.590000e+04</td>\n",
              "      <td>1.028000e+05</td>\n",
              "      <td>1239.000000</td>\n",
              "      <td>1948.000000</td>\n",
              "      <td>3.000000</td>\n",
              "      <td>1.000000</td>\n",
              "      <td>0.000000</td>\n",
              "    </tr>\n",
              "    <tr>\n",
              "      <th>50%</th>\n",
              "      <td>2.054500e+05</td>\n",
              "      <td>0.270000</td>\n",
              "      <td>3929.000000</td>\n",
              "      <td>2.880000e+04</td>\n",
              "      <td>1.114000e+05</td>\n",
              "      <td>1.485000e+05</td>\n",
              "      <td>1632.000000</td>\n",
              "      <td>1960.000000</td>\n",
              "      <td>3.000000</td>\n",
              "      <td>2.000000</td>\n",
              "      <td>0.000000</td>\n",
              "    </tr>\n",
              "    <tr>\n",
              "      <th>75%</th>\n",
              "      <td>3.290000e+05</td>\n",
              "      <td>0.450000</td>\n",
              "      <td>6228.000000</td>\n",
              "      <td>6.000000e+04</td>\n",
              "      <td>1.807000e+05</td>\n",
              "      <td>2.685000e+05</td>\n",
              "      <td>2212.000000</td>\n",
              "      <td>1983.000000</td>\n",
              "      <td>3.000000</td>\n",
              "      <td>2.000000</td>\n",
              "      <td>1.000000</td>\n",
              "    </tr>\n",
              "    <tr>\n",
              "      <th>max</th>\n",
              "      <td>5.427806e+07</td>\n",
              "      <td>160.060000</td>\n",
              "      <td>9530.000000</td>\n",
              "      <td>2.772000e+06</td>\n",
              "      <td>1.297180e+07</td>\n",
              "      <td>1.394040e+07</td>\n",
              "      <td>197988.000000</td>\n",
              "      <td>2017.000000</td>\n",
              "      <td>11.000000</td>\n",
              "      <td>10.000000</td>\n",
              "      <td>3.000000</td>\n",
              "    </tr>\n",
              "  </tbody>\n",
              "</table>\n",
              "</div>\n",
              "      <button class=\"colab-df-convert\" onclick=\"convertToInteractive('df-5f844f7a-c90b-4a84-bce5-0089273f8777')\"\n",
              "              title=\"Convert this dataframe to an interactive table.\"\n",
              "              style=\"display:none;\">\n",
              "        \n",
              "  <svg xmlns=\"http://www.w3.org/2000/svg\" height=\"24px\"viewBox=\"0 0 24 24\"\n",
              "       width=\"24px\">\n",
              "    <path d=\"M0 0h24v24H0V0z\" fill=\"none\"/>\n",
              "    <path d=\"M18.56 5.44l.94 2.06.94-2.06 2.06-.94-2.06-.94-.94-2.06-.94 2.06-2.06.94zm-11 1L8.5 8.5l.94-2.06 2.06-.94-2.06-.94L8.5 2.5l-.94 2.06-2.06.94zm10 10l.94 2.06.94-2.06 2.06-.94-2.06-.94-.94-2.06-.94 2.06-2.06.94z\"/><path d=\"M17.41 7.96l-1.37-1.37c-.4-.4-.92-.59-1.43-.59-.52 0-1.04.2-1.43.59L10.3 9.45l-7.72 7.72c-.78.78-.78 2.05 0 2.83L4 21.41c.39.39.9.59 1.41.59.51 0 1.02-.2 1.41-.59l7.78-7.78 2.81-2.81c.8-.78.8-2.07 0-2.86zM5.41 20L4 18.59l7.72-7.72 1.47 1.35L5.41 20z\"/>\n",
              "  </svg>\n",
              "      </button>\n",
              "      \n",
              "  <style>\n",
              "    .colab-df-container {\n",
              "      display:flex;\n",
              "      flex-wrap:wrap;\n",
              "      gap: 12px;\n",
              "    }\n",
              "\n",
              "    .colab-df-convert {\n",
              "      background-color: #E8F0FE;\n",
              "      border: none;\n",
              "      border-radius: 50%;\n",
              "      cursor: pointer;\n",
              "      display: none;\n",
              "      fill: #1967D2;\n",
              "      height: 32px;\n",
              "      padding: 0 0 0 0;\n",
              "      width: 32px;\n",
              "    }\n",
              "\n",
              "    .colab-df-convert:hover {\n",
              "      background-color: #E2EBFA;\n",
              "      box-shadow: 0px 1px 2px rgba(60, 64, 67, 0.3), 0px 1px 3px 1px rgba(60, 64, 67, 0.15);\n",
              "      fill: #174EA6;\n",
              "    }\n",
              "\n",
              "    [theme=dark] .colab-df-convert {\n",
              "      background-color: #3B4455;\n",
              "      fill: #D2E3FC;\n",
              "    }\n",
              "\n",
              "    [theme=dark] .colab-df-convert:hover {\n",
              "      background-color: #434B5C;\n",
              "      box-shadow: 0px 1px 3px 1px rgba(0, 0, 0, 0.15);\n",
              "      filter: drop-shadow(0px 1px 2px rgba(0, 0, 0, 0.3));\n",
              "      fill: #FFFFFF;\n",
              "    }\n",
              "  </style>\n",
              "\n",
              "      <script>\n",
              "        const buttonEl =\n",
              "          document.querySelector('#df-5f844f7a-c90b-4a84-bce5-0089273f8777 button.colab-df-convert');\n",
              "        buttonEl.style.display =\n",
              "          google.colab.kernel.accessAllowed ? 'block' : 'none';\n",
              "\n",
              "        async function convertToInteractive(key) {\n",
              "          const element = document.querySelector('#df-5f844f7a-c90b-4a84-bce5-0089273f8777');\n",
              "          const dataTable =\n",
              "            await google.colab.kernel.invokeFunction('convertToInteractive',\n",
              "                                                     [key], {});\n",
              "          if (!dataTable) return;\n",
              "\n",
              "          const docLinkHtml = 'Like what you see? Visit the ' +\n",
              "            '<a target=\"_blank\" href=https://colab.research.google.com/notebooks/data_table.ipynb>data table notebook</a>'\n",
              "            + ' to learn more about interactive tables.';\n",
              "          element.innerHTML = '';\n",
              "          dataTable['output_type'] = 'display_data';\n",
              "          await google.colab.output.renderOutput(dataTable, element);\n",
              "          const docLink = document.createElement('div');\n",
              "          docLink.innerHTML = docLinkHtml;\n",
              "          element.appendChild(docLink);\n",
              "        }\n",
              "      </script>\n",
              "    </div>\n",
              "  </div>\n",
              "  "
            ]
          },
          "metadata": {},
          "execution_count": 9
        }
      ]
    },
    {
      "cell_type": "markdown",
      "source": [
        "#Data Exploration"
      ],
      "metadata": {
        "id": "VCTB3VGXfKdi"
      }
    },
    {
      "cell_type": "code",
      "source": [
        "plt.figure(figsize=[12,6])\n",
        "sns.heatmap(df.corr(), annot=True, cmap=\"Reds\")\n",
        "plt.title('Correlation Matrix \\n'.center(10))\n",
        "plt.show()"
      ],
      "metadata": {
        "colab": {
          "base_uri": "https://localhost:8080/",
          "height": 705
        },
        "id": "B2xU6LiYk4Bt",
        "outputId": "1b7fb466-3c5c-4857-ff92-178b90f5acc2"
      },
      "execution_count": 10,
      "outputs": [
        {
          "output_type": "stream",
          "name": "stderr",
          "text": [
            "<ipython-input-10-71efaa35b498>:2: FutureWarning: The default value of numeric_only in DataFrame.corr is deprecated. In a future version, it will default to False. Select only valid columns or specify the value of numeric_only to silence this warning.\n",
            "  sns.heatmap(df.corr(), annot=True, cmap=\"Reds\")\n"
          ]
        },
        {
          "output_type": "display_data",
          "data": {
            "text/plain": [
              "<Figure size 1200x600 with 2 Axes>"
            ],
            "image/png": "[encoded data removed]"
          },
          "metadata": {}
        }
      ]
    },
    {
      "cell_type": "code",
      "source": [
        "df = pd.read_excel('/content/drive/MyDrive/Colab Notebooks/Dataset/Spring 2023 - AISC - Nest Analytics_Toronto_housing_data_.xlsx')\n",
        "df = df.drop(df.columns[0],axis=1)\n",
        "df.head()"
      ],
      "metadata": {
        "id": "WQdGNqbb8szQ",
        "colab": {
          "base_uri": "https://localhost:8080/",
          "height": 507
        },
        "outputId": "a531078a-314c-447a-c9ae-37d18812c897"
      },
      "execution_count": 15,
      "outputs": [
        {
          "output_type": "execute_result",
          "data": {
            "text/plain": [
              "            Land Use   Property Address Suite/ RESIDENTIAL CONDO#  Sale Date  \\\n",
              "0  RESIDENTIAL CONDO    1208  3RD AVE S                         8 2013-01-24   \n",
              "1      SINGLE FAMILY   1802  STEWART PL                       NaN 2013-01-11   \n",
              "2      SINGLE FAMILY  2761  ROSEDALE PL                       NaN 2013-01-18   \n",
              "3      SINGLE FAMILY  224  PEACHTREE ST                       NaN 2013-01-18   \n",
              "4      SINGLE FAMILY      316  LUTIE ST                       NaN 2013-01-23   \n",
              "\n",
              "   Sale Price   Legal Reference Sold As Vacant  \\\n",
              "0      132000  20130128-0008725             No   \n",
              "1      191500  20130118-0006337             No   \n",
              "2      202000  20130124-0008033             No   \n",
              "3       32000  20130128-0008863             No   \n",
              "4      102000  20130131-0009929             No   \n",
              "\n",
              "  Multiple Parcels Involved in Sale                     Owner Name  \\\n",
              "0                                No                            NaN   \n",
              "1                                No              STINSON, LAURA M.   \n",
              "2                                No                NUNES, JARED R.   \n",
              "3                                No                WHITFORD, KAREN   \n",
              "4                                No  HENDERSON, JAMES P. & LYNN P.   \n",
              "\n",
              "             Address  ...  Building Value Total Value  Finished Area  \\\n",
              "0                NaN  ...             NaN         NaN            NaN   \n",
              "1   1802  STEWART PL  ...        134400.0    168300.0     1149.00000   \n",
              "2  2761  ROSEDALE PL  ...        157800.0    191800.0     2090.82495   \n",
              "3  224  PEACHTREE ST  ...        243700.0    268700.0     2145.60001   \n",
              "4      316  LUTIE ST  ...        138100.0    164800.0     1969.00000   \n",
              "\n",
              "   Foundation Type  Year Built  Exterior Wall  Grade Bedrooms  Full Bath  \\\n",
              "0              NaN         NaN            NaN    NaN      NaN        NaN   \n",
              "1          PT BSMT      1941.0          BRICK   C         2.0        1.0   \n",
              "2             SLAB      2000.0    BRICK/FRAME   C         3.0        2.0   \n",
              "3        FULL BSMT      1948.0    BRICK/FRAME   B         4.0        2.0   \n",
              "4            CRAWL      1910.0          FRAME   C         2.0        1.0   \n",
              "\n",
              "  Half Bath  \n",
              "0       NaN  \n",
              "1       0.0  \n",
              "2       1.0  \n",
              "3       0.0  \n",
              "4       0.0  \n",
              "\n",
              "[5 rows x 24 columns]"
            ],
            "text/html": [
              "\n",
              "  <div id=\"df-4de5b7f1-0908-4cd7-9d12-ad95ce94d2a5\">\n",
              "    <div class=\"colab-df-container\">\n",
              "      <div>\n",
              "<style scoped>\n",
              "    .dataframe tbody tr th:only-of-type {\n",
              "        vertical-align: middle;\n",
              "    }\n",
              "\n",
              "    .dataframe tbody tr th {\n",
              "        vertical-align: top;\n",
              "    }\n",
              "\n",
              "    .dataframe thead th {\n",
              "        text-align: right;\n",
              "    }\n",
              "</style>\n",
              "<table border=\"1\" class=\"dataframe\">\n",
              "  <thead>\n",
              "    <tr style=\"text-align: right;\">\n",
              "      <th></th>\n",
              "      <th>Land Use</th>\n",
              "      <th>Property Address</th>\n",
              "      <th>Suite/ RESIDENTIAL CONDO#</th>\n",
              "      <th>Sale Date</th>\n",
              "      <th>Sale Price</th>\n",
              "      <th>Legal Reference</th>\n",
              "      <th>Sold As Vacant</th>\n",
              "      <th>Multiple Parcels Involved in Sale</th>\n",
              "      <th>Owner Name</th>\n",
              "      <th>Address</th>\n",
              "      <th>...</th>\n",
              "      <th>Building Value</th>\n",
              "      <th>Total Value</th>\n",
              "      <th>Finished Area</th>\n",
              "      <th>Foundation Type</th>\n",
              "      <th>Year Built</th>\n",
              "      <th>Exterior Wall</th>\n",
              "      <th>Grade</th>\n",
              "      <th>Bedrooms</th>\n",
              "      <th>Full Bath</th>\n",
              "      <th>Half Bath</th>\n",
              "    </tr>\n",
              "  </thead>\n",
              "  <tbody>\n",
              "    <tr>\n",
              "      <th>0</th>\n",
              "      <td>RESIDENTIAL CONDO</td>\n",
              "      <td>1208  3RD AVE S</td>\n",
              "      <td>8</td>\n",
              "      <td>2013-01-24</td>\n",
              "      <td>132000</td>\n",
              "      <td>20130128-0008725</td>\n",
              "      <td>No</td>\n",
              "      <td>No</td>\n",
              "      <td>NaN</td>\n",
              "      <td>NaN</td>\n",
              "      <td>...</td>\n",
              "      <td>NaN</td>\n",
              "      <td>NaN</td>\n",
              "      <td>NaN</td>\n",
              "      <td>NaN</td>\n",
              "      <td>NaN</td>\n",
              "      <td>NaN</td>\n",
              "      <td>NaN</td>\n",
              "      <td>NaN</td>\n",
              "      <td>NaN</td>\n",
              "      <td>NaN</td>\n",
              "    </tr>\n",
              "    <tr>\n",
              "      <th>1</th>\n",
              "      <td>SINGLE FAMILY</td>\n",
              "      <td>1802  STEWART PL</td>\n",
              "      <td>NaN</td>\n",
              "      <td>2013-01-11</td>\n",
              "      <td>191500</td>\n",
              "      <td>20130118-0006337</td>\n",
              "      <td>No</td>\n",
              "      <td>No</td>\n",
              "      <td>STINSON, LAURA M.</td>\n",
              "      <td>1802  STEWART PL</td>\n",
              "      <td>...</td>\n",
              "      <td>134400.0</td>\n",
              "      <td>168300.0</td>\n",
              "      <td>1149.00000</td>\n",
              "      <td>PT BSMT</td>\n",
              "      <td>1941.0</td>\n",
              "      <td>BRICK</td>\n",
              "      <td>C</td>\n",
              "      <td>2.0</td>\n",
              "      <td>1.0</td>\n",
              "      <td>0.0</td>\n",
              "    </tr>\n",
              "    <tr>\n",
              "      <th>2</th>\n",
              "      <td>SINGLE FAMILY</td>\n",
              "      <td>2761  ROSEDALE PL</td>\n",
              "      <td>NaN</td>\n",
              "      <td>2013-01-18</td>\n",
              "      <td>202000</td>\n",
              "      <td>20130124-0008033</td>\n",
              "      <td>No</td>\n",
              "      <td>No</td>\n",
              "      <td>NUNES, JARED R.</td>\n",
              "      <td>2761  ROSEDALE PL</td>\n",
              "      <td>...</td>\n",
              "      <td>157800.0</td>\n",
              "      <td>191800.0</td>\n",
              "      <td>2090.82495</td>\n",
              "      <td>SLAB</td>\n",
              "      <td>2000.0</td>\n",
              "      <td>BRICK/FRAME</td>\n",
              "      <td>C</td>\n",
              "      <td>3.0</td>\n",
              "      <td>2.0</td>\n",
              "      <td>1.0</td>\n",
              "    </tr>\n",
              "    <tr>\n",
              "      <th>3</th>\n",
              "      <td>SINGLE FAMILY</td>\n",
              "      <td>224  PEACHTREE ST</td>\n",
              "      <td>NaN</td>\n",
              "      <td>2013-01-18</td>\n",
              "      <td>32000</td>\n",
              "      <td>20130128-0008863</td>\n",
              "      <td>No</td>\n",
              "      <td>No</td>\n",
              "      <td>WHITFORD, KAREN</td>\n",
              "      <td>224  PEACHTREE ST</td>\n",
              "      <td>...</td>\n",
              "      <td>243700.0</td>\n",
              "      <td>268700.0</td>\n",
              "      <td>2145.60001</td>\n",
              "      <td>FULL BSMT</td>\n",
              "      <td>1948.0</td>\n",
              "      <td>BRICK/FRAME</td>\n",
              "      <td>B</td>\n",
              "      <td>4.0</td>\n",
              "      <td>2.0</td>\n",
              "      <td>0.0</td>\n",
              "    </tr>\n",
              "    <tr>\n",
              "      <th>4</th>\n",
              "      <td>SINGLE FAMILY</td>\n",
              "      <td>316  LUTIE ST</td>\n",
              "      <td>NaN</td>\n",
              "      <td>2013-01-23</td>\n",
              "      <td>102000</td>\n",
              "      <td>20130131-0009929</td>\n",
              "      <td>No</td>\n",
              "      <td>No</td>\n",
              "      <td>HENDERSON, JAMES P. &amp; LYNN P.</td>\n",
              "      <td>316  LUTIE ST</td>\n",
              "      <td>...</td>\n",
              "      <td>138100.0</td>\n",
              "      <td>164800.0</td>\n",
              "      <td>1969.00000</td>\n",
              "      <td>CRAWL</td>\n",
              "      <td>1910.0</td>\n",
              "      <td>FRAME</td>\n",
              "      <td>C</td>\n",
              "      <td>2.0</td>\n",
              "      <td>1.0</td>\n",
              "      <td>0.0</td>\n",
              "    </tr>\n",
              "  </tbody>\n",
              "</table>\n",
              "<p>5 rows × 24 columns</p>\n",
              "</div>\n",
              "      <button class=\"colab-df-convert\" onclick=\"convertToInteractive('df-4de5b7f1-0908-4cd7-9d12-ad95ce94d2a5')\"\n",
              "              title=\"Convert this dataframe to an interactive table.\"\n",
              "              style=\"display:none;\">\n",
              "        \n",
              "  <svg xmlns=\"http://www.w3.org/2000/svg\" height=\"24px\"viewBox=\"0 0 24 24\"\n",
              "       width=\"24px\">\n",
              "    <path d=\"M0 0h24v24H0V0z\" fill=\"none\"/>\n",
              "    <path d=\"M18.56 5.44l.94 2.06.94-2.06 2.06-.94-2.06-.94-.94-2.06-.94 2.06-2.06.94zm-11 1L8.5 8.5l.94-2.06 2.06-.94-2.06-.94L8.5 2.5l-.94 2.06-2.06.94zm10 10l.94 2.06.94-2.06 2.06-.94-2.06-.94-.94-2.06-.94 2.06-2.06.94z\"/><path d=\"M17.41 7.96l-1.37-1.37c-.4-.4-.92-.59-1.43-.59-.52 0-1.04.2-1.43.59L10.3 9.45l-7.72 7.72c-.78.78-.78 2.05 0 2.83L4 21.41c.39.39.9.59 1.41.59.51 0 1.02-.2 1.41-.59l7.78-7.78 2.81-2.81c.8-.78.8-2.07 0-2.86zM5.41 20L4 18.59l7.72-7.72 1.47 1.35L5.41 20z\"/>\n",
              "  </svg>\n",
              "      </button>\n",
              "      \n",
              "  <style>\n",
              "    .colab-df-container {\n",
              "      display:flex;\n",
              "      flex-wrap:wrap;\n",
              "      gap: 12px;\n",
              "    }\n",
              "\n",
              "    .colab-df-convert {\n",
              "      background-color: #E8F0FE;\n",
              "      border: none;\n",
              "      border-radius: 50%;\n",
              "      cursor: pointer;\n",
              "      display: none;\n",
              "      fill: #1967D2;\n",
              "      height: 32px;\n",
              "      padding: 0 0 0 0;\n",
              "      width: 32px;\n",
              "    }\n",
              "\n",
              "    .colab-df-convert:hover {\n",
              "      background-color: #E2EBFA;\n",
              "      box-shadow: 0px 1px 2px rgba(60, 64, 67, 0.3), 0px 1px 3px 1px rgba(60, 64, 67, 0.15);\n",
              "      fill: #174EA6;\n",
              "    }\n",
              "\n",
              "    [theme=dark] .colab-df-convert {\n",
              "      background-color: #3B4455;\n",
              "      fill: #D2E3FC;\n",
              "    }\n",
              "\n",
              "    [theme=dark] .colab-df-convert:hover {\n",
              "      background-color: #434B5C;\n",
              "      box-shadow: 0px 1px 3px 1px rgba(0, 0, 0, 0.15);\n",
              "      filter: drop-shadow(0px 1px 2px rgba(0, 0, 0, 0.3));\n",
              "      fill: #FFFFFF;\n",
              "    }\n",
              "  </style>\n",
              "\n",
              "      <script>\n",
              "        const buttonEl =\n",
              "          document.querySelector('#df-4de5b7f1-0908-4cd7-9d12-ad95ce94d2a5 button.colab-df-convert');\n",
              "        buttonEl.style.display =\n",
              "          google.colab.kernel.accessAllowed ? 'block' : 'none';\n",
              "\n",
              "        async function convertToInteractive(key) {\n",
              "          const element = document.querySelector('#df-4de5b7f1-0908-4cd7-9d12-ad95ce94d2a5');\n",
              "          const dataTable =\n",
              "            await google.colab.kernel.invokeFunction('convertToInteractive',\n",
              "                                                     [key], {});\n",
              "          if (!dataTable) return;\n",
              "\n",
              "          const docLinkHtml = 'Like what you see? Visit the ' +\n",
              "            '<a target=\"_blank\" href=https://colab.research.google.com/notebooks/data_table.ipynb>data table notebook</a>'\n",
              "            + ' to learn more about interactive tables.';\n",
              "          element.innerHTML = '';\n",
              "          dataTable['output_type'] = 'display_data';\n",
              "          await google.colab.output.renderOutput(dataTable, element);\n",
              "          const docLink = document.createElement('div');\n",
              "          docLink.innerHTML = docLinkHtml;\n",
              "          element.appendChild(docLink);\n",
              "        }\n",
              "      </script>\n",
              "    </div>\n",
              "  </div>\n",
              "  "
            ]
          },
          "metadata": {},
          "execution_count": 15
        }
      ]
    },
    {
      "cell_type": "code",
      "source": [
        "df.shape"
      ],
      "metadata": {
        "colab": {
          "base_uri": "https://localhost:8080/"
        },
        "id": "_0Sg1AZ_khAi",
        "outputId": "7d4f1f29-e01a-4cb8-ed1e-517108eb7583"
      },
      "execution_count": 16,
      "outputs": [
        {
          "output_type": "execute_result",
          "data": {
            "text/plain": [
              "(56636, 24)"
            ]
          },
          "metadata": {},
          "execution_count": 16
        }
      ]
    },
    {
      "cell_type": "code",
      "source": [
        "df = df.drop(['Property Address','Suite/ RESIDENTIAL CONDO#','Legal Reference','Sale Date','Owner Name','Address'], axis=1)"
      ],
      "metadata": {
        "id": "ykTTL70OkgWd"
      },
      "execution_count": 17,
      "outputs": []
    },
    {
      "cell_type": "code",
      "source": [
        "col = list(df.columns)\n",
        "categorical_features = []\n",
        "numerical_features = []\n",
        "\n",
        "for i in col:\n",
        "        if df[i].dtype == 'object':\n",
        "            categorical_features.append(i)\n",
        "        else:\n",
        "            numerical_features.append(i)\n",
        "\n",
        "print('Categorical_Features: ', categorical_features)\n",
        "print('Numerical_Features: ', numerical_features)\n",
        "\n",
        "print('\\nInference: The Dataset has {} categorical & {} numerical features.'.format(len(categorical_features),len(numerical_features)))"
      ],
      "metadata": {
        "colab": {
          "base_uri": "https://localhost:8080/"
        },
        "id": "pAojAfiVkHxd",
        "outputId": "04cf3e42-1648-4934-b212-450e4730fedf"
      },
      "execution_count": 18,
      "outputs": [
        {
          "output_type": "stream",
          "name": "stdout",
          "text": [
            "Categorical_Features:  ['Land Use', 'Sold As Vacant', 'Multiple Parcels Involved in Sale', 'Tax District', 'Foundation Type', 'Exterior Wall', 'Grade']\n",
            "Numerical_Features:  ['Sale Price', 'Acreage', 'Neighborhood', 'Land Value', 'Building Value', 'Total Value', 'Finished Area', 'Year Built', 'Bedrooms', 'Full Bath', 'Half Bath']\n",
            "\n",
            "Inference: The Dataset has 7 categorical & 11 numerical features.\n"
          ]
        }
      ]
    },
    {
      "cell_type": "code",
      "source": [
        "df[categorical_features] = df[categorical_features].fillna(df[categorical_features].mode())\n",
        "df[numerical_features] = df[numerical_features].fillna(df[numerical_features].mean())"
      ],
      "metadata": {
        "colab": {
          "base_uri": "https://localhost:8080/",
          "height": 182
        },
        "id": "Yj1WMFmN943G",
        "outputId": "6f684547-58b2-4bf2-f06f-3a021752cc04"
      },
      "execution_count": 1,
      "outputs": [
        {
          "output_type": "error",
          "ename": "NameError",
          "evalue": "ignored",
          "traceback": [
            "\u001b[0;31m---------------------------------------------------------------------------\u001b[0m",
            "\u001b[0;31mNameError\u001b[0m                                 Traceback (most recent call last)",
            "\u001b[0;32m<ipython-input-1-7f7b9650f549>\u001b[0m in \u001b[0;36m<cell line: 1>\u001b[0;34m()\u001b[0m\n\u001b[0;32m----> 1\u001b[0;31m \u001b[0mdf\u001b[0m\u001b[0;34m[\u001b[0m\u001b[0mcategorical_features\u001b[0m\u001b[0;34m]\u001b[0m \u001b[0;34m=\u001b[0m \u001b[0mdf\u001b[0m\u001b[0;34m[\u001b[0m\u001b[0mcategorical_features\u001b[0m\u001b[0;34m]\u001b[0m\u001b[0;34m.\u001b[0m\u001b[0mfillna\u001b[0m\u001b[0;34m(\u001b[0m\u001b[0mdf\u001b[0m\u001b[0;34m[\u001b[0m\u001b[0mcategorical_features\u001b[0m\u001b[0;34m]\u001b[0m\u001b[0;34m.\u001b[0m\u001b[0mmode\u001b[0m\u001b[0;34m(\u001b[0m\u001b[0;34m)\u001b[0m\u001b[0;34m)\u001b[0m\u001b[0;34m\u001b[0m\u001b[0;34m\u001b[0m\u001b[0m\n\u001b[0m\u001b[1;32m      2\u001b[0m \u001b[0mdf\u001b[0m\u001b[0;34m[\u001b[0m\u001b[0mnumerical_features\u001b[0m\u001b[0;34m]\u001b[0m \u001b[0;34m=\u001b[0m \u001b[0mdf\u001b[0m\u001b[0;34m[\u001b[0m\u001b[0mnumerical_features\u001b[0m\u001b[0;34m]\u001b[0m\u001b[0;34m.\u001b[0m\u001b[0mfillna\u001b[0m\u001b[0;34m(\u001b[0m\u001b[0mdf\u001b[0m\u001b[0;34m[\u001b[0m\u001b[0mnumerical_features\u001b[0m\u001b[0;34m]\u001b[0m\u001b[0;34m.\u001b[0m\u001b[0mmean\u001b[0m\u001b[0;34m(\u001b[0m\u001b[0;34m)\u001b[0m\u001b[0;34m)\u001b[0m\u001b[0;34m\u001b[0m\u001b[0;34m\u001b[0m\u001b[0m\n",
            "\u001b[0;31mNameError\u001b[0m: name 'df' is not defined"
          ]
        }
      ]
    },
    {
      "cell_type": "code",
      "source": [
        "df.shape"
      ],
      "metadata": {
        "colab": {
          "base_uri": "https://localhost:8080/"
        },
        "id": "1kPSLBQAAGu2",
        "outputId": "2d16ac87-bd6c-4b8c-b5c6-3f97f845242a"
      },
      "execution_count": 20,
      "outputs": [
        {
          "output_type": "execute_result",
          "data": {
            "text/plain": [
              "(56636, 18)"
            ]
          },
          "metadata": {},
          "execution_count": 20
        }
      ]
    },
    {
      "cell_type": "code",
      "source": [
        "df = df.dropna(axis='rows')\n",
        "df"
      ],
      "metadata": {
        "colab": {
          "base_uri": "https://localhost:8080/",
          "height": 886
        },
        "id": "uju8afnLYTJl",
        "outputId": "34c17f1c-9704-491d-a2d6-ed9b16f87dbd"
      },
      "execution_count": 21,
      "outputs": [
        {
          "output_type": "execute_result",
          "data": {
            "text/plain": [
              "                Land Use  Sale Price Sold As Vacant  \\\n",
              "0      RESIDENTIAL CONDO      132000             No   \n",
              "1          SINGLE FAMILY      191500             No   \n",
              "2          SINGLE FAMILY      202000             No   \n",
              "3          SINGLE FAMILY       32000             No   \n",
              "4          SINGLE FAMILY      102000             No   \n",
              "...                  ...         ...            ...   \n",
              "56631  RESIDENTIAL CONDO      210000             No   \n",
              "56632  RESIDENTIAL CONDO      338000             No   \n",
              "56633  RESIDENTIAL CONDO      742000             No   \n",
              "56634  RESIDENTIAL CONDO      320000             No   \n",
              "56635  RESIDENTIAL CONDO      330000             No   \n",
              "\n",
              "      Multiple Parcels Involved in Sale   Acreage             Tax District  \\\n",
              "0                                    No  0.498903  URBAN SERVICES DISTRICT   \n",
              "1                                    No  0.170000  URBAN SERVICES DISTRICT   \n",
              "2                                    No  0.110000       CITY OF BERRY HILL   \n",
              "3                                    No  0.170000  URBAN SERVICES DISTRICT   \n",
              "4                                    No  0.340000  URBAN SERVICES DISTRICT   \n",
              "...                                 ...       ...                      ...   \n",
              "56631                                No  0.498903  URBAN SERVICES DISTRICT   \n",
              "56632                                No  0.498903  URBAN SERVICES DISTRICT   \n",
              "56633                                No  0.498903  URBAN SERVICES DISTRICT   \n",
              "56634                                No  0.498903  URBAN SERVICES DISTRICT   \n",
              "56635                                No  0.498903  URBAN SERVICES DISTRICT   \n",
              "\n",
              "       Neighborhood    Land Value  Building Value    Total Value  \\\n",
              "0       4356.215782  69072.665027   160802.458969  232397.094246   \n",
              "1       3127.000000  32000.000000   134400.000000  168300.000000   \n",
              "2       9126.000000  34000.000000   157800.000000  191800.000000   \n",
              "3       3130.000000  25000.000000   243700.000000  268700.000000   \n",
              "4       3130.000000  25000.000000   138100.000000  164800.000000   \n",
              "...             ...           ...             ...            ...   \n",
              "56631   4356.215782  69072.665027   160802.458969  232397.094246   \n",
              "56632   4356.215782  69072.665027   160802.458969  232397.094246   \n",
              "56633   4356.215782  69072.665027   160802.458969  232397.094246   \n",
              "56634   4356.215782  69072.665027   160802.458969  232397.094246   \n",
              "56635   4356.215782  69072.665027   160802.458969  232397.094246   \n",
              "\n",
              "       Finished Area Foundation Type   Year Built Exterior Wall Grade  \\\n",
              "0        1926.954345           CRAWL  1963.749224         BRICK  C      \n",
              "1        1149.000000         PT BSMT  1941.000000         BRICK  C      \n",
              "2        2090.824950            SLAB  2000.000000   BRICK/FRAME  C      \n",
              "3        2145.600010       FULL BSMT  1948.000000   BRICK/FRAME  B      \n",
              "4        1969.000000           CRAWL  1910.000000         FRAME  C      \n",
              "...              ...             ...          ...           ...   ...   \n",
              "56631    1926.954345           CRAWL  1963.749224         BRICK  C      \n",
              "56632    1926.954345           CRAWL  1963.749224         BRICK  C      \n",
              "56633    1926.954345           CRAWL  1963.749224         BRICK  C      \n",
              "56634    1926.954345           CRAWL  1963.749224         BRICK  C      \n",
              "56635    1926.954345           CRAWL  1963.749224         BRICK  C      \n",
              "\n",
              "       Bedrooms  Full Bath  Half Bath  \n",
              "0      3.090029   1.886106   0.283981  \n",
              "1      2.000000   1.000000   0.000000  \n",
              "2      3.000000   2.000000   1.000000  \n",
              "3      4.000000   2.000000   0.000000  \n",
              "4      2.000000   1.000000   0.000000  \n",
              "...         ...        ...        ...  \n",
              "56631  3.090029   1.886106   0.283981  \n",
              "56632  3.090029   1.886106   0.283981  \n",
              "56633  3.090029   1.886106   0.283981  \n",
              "56634  3.090029   1.886106   0.283981  \n",
              "56635  3.090029   1.886106   0.283981  \n",
              "\n",
              "[56636 rows x 18 columns]"
            ],
            "text/html": [
              "\n",
              "  <div id=\"df-ae247b70-76b2-4dba-9c85-a17f6a506fd9\">\n",
              "    <div class=\"colab-df-container\">\n",
              "      <div>\n",
              "<style scoped>\n",
              "    .dataframe tbody tr th:only-of-type {\n",
              "        vertical-align: middle;\n",
              "    }\n",
              "\n",
              "    .dataframe tbody tr th {\n",
              "        vertical-align: top;\n",
              "    }\n",
              "\n",
              "    .dataframe thead th {\n",
              "        text-align: right;\n",
              "    }\n",
              "</style>\n",
              "<table border=\"1\" class=\"dataframe\">\n",
              "  <thead>\n",
              "    <tr style=\"text-align: right;\">\n",
              "      <th></th>\n",
              "      <th>Land Use</th>\n",
              "      <th>Sale Price</th>\n",
              "      <th>Sold As Vacant</th>\n",
              "      <th>Multiple Parcels Involved in Sale</th>\n",
              "      <th>Acreage</th>\n",
              "      <th>Tax District</th>\n",
              "      <th>Neighborhood</th>\n",
              "      <th>Land Value</th>\n",
              "      <th>Building Value</th>\n",
              "      <th>Total Value</th>\n",
              "      <th>Finished Area</th>\n",
              "      <th>Foundation Type</th>\n",
              "      <th>Year Built</th>\n",
              "      <th>Exterior Wall</th>\n",
              "      <th>Grade</th>\n",
              "      <th>Bedrooms</th>\n",
              "      <th>Full Bath</th>\n",
              "      <th>Half Bath</th>\n",
              "    </tr>\n",
              "  </thead>\n",
              "  <tbody>\n",
              "    <tr>\n",
              "      <th>0</th>\n",
              "      <td>RESIDENTIAL CONDO</td>\n",
              "      <td>132000</td>\n",
              "      <td>No</td>\n",
              "      <td>No</td>\n",
              "      <td>0.498903</td>\n",
              "      <td>URBAN SERVICES DISTRICT</td>\n",
              "      <td>4356.215782</td>\n",
              "      <td>69072.665027</td>\n",
              "      <td>160802.458969</td>\n",
              "      <td>232397.094246</td>\n",
              "      <td>1926.954345</td>\n",
              "      <td>CRAWL</td>\n",
              "      <td>1963.749224</td>\n",
              "      <td>BRICK</td>\n",
              "      <td>C</td>\n",
              "      <td>3.090029</td>\n",
              "      <td>1.886106</td>\n",
              "      <td>0.283981</td>\n",
              "    </tr>\n",
              "    <tr>\n",
              "      <th>1</th>\n",
              "      <td>SINGLE FAMILY</td>\n",
              "      <td>191500</td>\n",
              "      <td>No</td>\n",
              "      <td>No</td>\n",
              "      <td>0.170000</td>\n",
              "      <td>URBAN SERVICES DISTRICT</td>\n",
              "      <td>3127.000000</td>\n",
              "      <td>32000.000000</td>\n",
              "      <td>134400.000000</td>\n",
              "      <td>168300.000000</td>\n",
              "      <td>1149.000000</td>\n",
              "      <td>PT BSMT</td>\n",
              "      <td>1941.000000</td>\n",
              "      <td>BRICK</td>\n",
              "      <td>C</td>\n",
              "      <td>2.000000</td>\n",
              "      <td>1.000000</td>\n",
              "      <td>0.000000</td>\n",
              "    </tr>\n",
              "    <tr>\n",
              "      <th>2</th>\n",
              "      <td>SINGLE FAMILY</td>\n",
              "      <td>202000</td>\n",
              "      <td>No</td>\n",
              "      <td>No</td>\n",
              "      <td>0.110000</td>\n",
              "      <td>CITY OF BERRY HILL</td>\n",
              "      <td>9126.000000</td>\n",
              "      <td>34000.000000</td>\n",
              "      <td>157800.000000</td>\n",
              "      <td>191800.000000</td>\n",
              "      <td>2090.824950</td>\n",
              "      <td>SLAB</td>\n",
              "      <td>2000.000000</td>\n",
              "      <td>BRICK/FRAME</td>\n",
              "      <td>C</td>\n",
              "      <td>3.000000</td>\n",
              "      <td>2.000000</td>\n",
              "      <td>1.000000</td>\n",
              "    </tr>\n",
              "    <tr>\n",
              "      <th>3</th>\n",
              "      <td>SINGLE FAMILY</td>\n",
              "      <td>32000</td>\n",
              "      <td>No</td>\n",
              "      <td>No</td>\n",
              "      <td>0.170000</td>\n",
              "      <td>URBAN SERVICES DISTRICT</td>\n",
              "      <td>3130.000000</td>\n",
              "      <td>25000.000000</td>\n",
              "      <td>243700.000000</td>\n",
              "      <td>268700.000000</td>\n",
              "      <td>2145.600010</td>\n",
              "      <td>FULL BSMT</td>\n",
              "      <td>1948.000000</td>\n",
              "      <td>BRICK/FRAME</td>\n",
              "      <td>B</td>\n",
              "      <td>4.000000</td>\n",
              "      <td>2.000000</td>\n",
              "      <td>0.000000</td>\n",
              "    </tr>\n",
              "    <tr>\n",
              "      <th>4</th>\n",
              "      <td>SINGLE FAMILY</td>\n",
              "      <td>102000</td>\n",
              "      <td>No</td>\n",
              "      <td>No</td>\n",
              "      <td>0.340000</td>\n",
              "      <td>URBAN SERVICES DISTRICT</td>\n",
              "      <td>3130.000000</td>\n",
              "      <td>25000.000000</td>\n",
              "      <td>138100.000000</td>\n",
              "      <td>164800.000000</td>\n",
              "      <td>1969.000000</td>\n",
              "      <td>CRAWL</td>\n",
              "      <td>1910.000000</td>\n",
              "      <td>FRAME</td>\n",
              "      <td>C</td>\n",
              "      <td>2.000000</td>\n",
              "      <td>1.000000</td>\n",
              "      <td>0.000000</td>\n",
              "    </tr>\n",
              "    <tr>\n",
              "      <th>...</th>\n",
              "      <td>...</td>\n",
              "      <td>...</td>\n",
              "      <td>...</td>\n",
              "      <td>...</td>\n",
              "      <td>...</td>\n",
              "      <td>...</td>\n",
              "      <td>...</td>\n",
              "      <td>...</td>\n",
              "      <td>...</td>\n",
              "      <td>...</td>\n",
              "      <td>...</td>\n",
              "      <td>...</td>\n",
              "      <td>...</td>\n",
              "      <td>...</td>\n",
              "      <td>...</td>\n",
              "      <td>...</td>\n",
              "      <td>...</td>\n",
              "      <td>...</td>\n",
              "    </tr>\n",
              "    <tr>\n",
              "      <th>56631</th>\n",
              "      <td>RESIDENTIAL CONDO</td>\n",
              "      <td>210000</td>\n",
              "      <td>No</td>\n",
              "      <td>No</td>\n",
              "      <td>0.498903</td>\n",
              "      <td>URBAN SERVICES DISTRICT</td>\n",
              "      <td>4356.215782</td>\n",
              "      <td>69072.665027</td>\n",
              "      <td>160802.458969</td>\n",
              "      <td>232397.094246</td>\n",
              "      <td>1926.954345</td>\n",
              "      <td>CRAWL</td>\n",
              "      <td>1963.749224</td>\n",
              "      <td>BRICK</td>\n",
              "      <td>C</td>\n",
              "      <td>3.090029</td>\n",
              "      <td>1.886106</td>\n",
              "      <td>0.283981</td>\n",
              "    </tr>\n",
              "    <tr>\n",
              "      <th>56632</th>\n",
              "      <td>RESIDENTIAL CONDO</td>\n",
              "      <td>338000</td>\n",
              "      <td>No</td>\n",
              "      <td>No</td>\n",
              "      <td>0.498903</td>\n",
              "      <td>URBAN SERVICES DISTRICT</td>\n",
              "      <td>4356.215782</td>\n",
              "      <td>69072.665027</td>\n",
              "      <td>160802.458969</td>\n",
              "      <td>232397.094246</td>\n",
              "      <td>1926.954345</td>\n",
              "      <td>CRAWL</td>\n",
              "      <td>1963.749224</td>\n",
              "      <td>BRICK</td>\n",
              "      <td>C</td>\n",
              "      <td>3.090029</td>\n",
              "      <td>1.886106</td>\n",
              "      <td>0.283981</td>\n",
              "    </tr>\n",
              "    <tr>\n",
              "      <th>56633</th>\n",
              "      <td>RESIDENTIAL CONDO</td>\n",
              "      <td>742000</td>\n",
              "      <td>No</td>\n",
              "      <td>No</td>\n",
              "      <td>0.498903</td>\n",
              "      <td>URBAN SERVICES DISTRICT</td>\n",
              "      <td>4356.215782</td>\n",
              "      <td>69072.665027</td>\n",
              "      <td>160802.458969</td>\n",
              "      <td>232397.094246</td>\n",
              "      <td>1926.954345</td>\n",
              "      <td>CRAWL</td>\n",
              "      <td>1963.749224</td>\n",
              "      <td>BRICK</td>\n",
              "      <td>C</td>\n",
              "      <td>3.090029</td>\n",
              "      <td>1.886106</td>\n",
              "      <td>0.283981</td>\n",
              "    </tr>\n",
              "    <tr>\n",
              "      <th>56634</th>\n",
              "      <td>RESIDENTIAL CONDO</td>\n",
              "      <td>320000</td>\n",
              "      <td>No</td>\n",
              "      <td>No</td>\n",
              "      <td>0.498903</td>\n",
              "      <td>URBAN SERVICES DISTRICT</td>\n",
              "      <td>4356.215782</td>\n",
              "      <td>69072.665027</td>\n",
              "      <td>160802.458969</td>\n",
              "      <td>232397.094246</td>\n",
              "      <td>1926.954345</td>\n",
              "      <td>CRAWL</td>\n",
              "      <td>1963.749224</td>\n",
              "      <td>BRICK</td>\n",
              "      <td>C</td>\n",
              "      <td>3.090029</td>\n",
              "      <td>1.886106</td>\n",
              "      <td>0.283981</td>\n",
              "    </tr>\n",
              "    <tr>\n",
              "      <th>56635</th>\n",
              "      <td>RESIDENTIAL CONDO</td>\n",
              "      <td>330000</td>\n",
              "      <td>No</td>\n",
              "      <td>No</td>\n",
              "      <td>0.498903</td>\n",
              "      <td>URBAN SERVICES DISTRICT</td>\n",
              "      <td>4356.215782</td>\n",
              "      <td>69072.665027</td>\n",
              "      <td>160802.458969</td>\n",
              "      <td>232397.094246</td>\n",
              "      <td>1926.954345</td>\n",
              "      <td>CRAWL</td>\n",
              "      <td>1963.749224</td>\n",
              "      <td>BRICK</td>\n",
              "      <td>C</td>\n",
              "      <td>3.090029</td>\n",
              "      <td>1.886106</td>\n",
              "      <td>0.283981</td>\n",
              "    </tr>\n",
              "  </tbody>\n",
              "</table>\n",
              "<p>56636 rows × 18 columns</p>\n",
              "</div>\n",
              "      <button class=\"colab-df-convert\" onclick=\"convertToInteractive('df-ae247b70-76b2-4dba-9c85-a17f6a506fd9')\"\n",
              "              title=\"Convert this dataframe to an interactive table.\"\n",
              "              style=\"display:none;\">\n",
              "        \n",
              "  <svg xmlns=\"http://www.w3.org/2000/svg\" height=\"24px\"viewBox=\"0 0 24 24\"\n",
              "       width=\"24px\">\n",
              "    <path d=\"M0 0h24v24H0V0z\" fill=\"none\"/>\n",
              "    <path d=\"M18.56 5.44l.94 2.06.94-2.06 2.06-.94-2.06-.94-.94-2.06-.94 2.06-2.06.94zm-11 1L8.5 8.5l.94-2.06 2.06-.94-2.06-.94L8.5 2.5l-.94 2.06-2.06.94zm10 10l.94 2.06.94-2.06 2.06-.94-2.06-.94-.94-2.06-.94 2.06-2.06.94z\"/><path d=\"M17.41 7.96l-1.37-1.37c-.4-.4-.92-.59-1.43-.59-.52 0-1.04.2-1.43.59L10.3 9.45l-7.72 7.72c-.78.78-.78 2.05 0 2.83L4 21.41c.39.39.9.59 1.41.59.51 0 1.02-.2 1.41-.59l7.78-7.78 2.81-2.81c.8-.78.8-2.07 0-2.86zM5.41 20L4 18.59l7.72-7.72 1.47 1.35L5.41 20z\"/>\n",
              "  </svg>\n",
              "      </button>\n",
              "      \n",
              "  <style>\n",
              "    .colab-df-container {\n",
              "      display:flex;\n",
              "      flex-wrap:wrap;\n",
              "      gap: 12px;\n",
              "    }\n",
              "\n",
              "    .colab-df-convert {\n",
              "      background-color: #E8F0FE;\n",
              "      border: none;\n",
              "      border-radius: 50%;\n",
              "      cursor: pointer;\n",
              "      display: none;\n",
              "      fill: #1967D2;\n",
              "      height: 32px;\n",
              "      padding: 0 0 0 0;\n",
              "      width: 32px;\n",
              "    }\n",
              "\n",
              "    .colab-df-convert:hover {\n",
              "      background-color: #E2EBFA;\n",
              "      box-shadow: 0px 1px 2px rgba(60, 64, 67, 0.3), 0px 1px 3px 1px rgba(60, 64, 67, 0.15);\n",
              "      fill: #174EA6;\n",
              "    }\n",
              "\n",
              "    [theme=dark] .colab-df-convert {\n",
              "      background-color: #3B4455;\n",
              "      fill: #D2E3FC;\n",
              "    }\n",
              "\n",
              "    [theme=dark] .colab-df-convert:hover {\n",
              "      background-color: #434B5C;\n",
              "      box-shadow: 0px 1px 3px 1px rgba(0, 0, 0, 0.15);\n",
              "      filter: drop-shadow(0px 1px 2px rgba(0, 0, 0, 0.3));\n",
              "      fill: #FFFFFF;\n",
              "    }\n",
              "  </style>\n",
              "\n",
              "      <script>\n",
              "        const buttonEl =\n",
              "          document.querySelector('#df-ae247b70-76b2-4dba-9c85-a17f6a506fd9 button.colab-df-convert');\n",
              "        buttonEl.style.display =\n",
              "          google.colab.kernel.accessAllowed ? 'block' : 'none';\n",
              "\n",
              "        async function convertToInteractive(key) {\n",
              "          const element = document.querySelector('#df-ae247b70-76b2-4dba-9c85-a17f6a506fd9');\n",
              "          const dataTable =\n",
              "            await google.colab.kernel.invokeFunction('convertToInteractive',\n",
              "                                                     [key], {});\n",
              "          if (!dataTable) return;\n",
              "\n",
              "          const docLinkHtml = 'Like what you see? Visit the ' +\n",
              "            '<a target=\"_blank\" href=https://colab.research.google.com/notebooks/data_table.ipynb>data table notebook</a>'\n",
              "            + ' to learn more about interactive tables.';\n",
              "          element.innerHTML = '';\n",
              "          dataTable['output_type'] = 'display_data';\n",
              "          await google.colab.output.renderOutput(dataTable, element);\n",
              "          const docLink = document.createElement('div');\n",
              "          docLink.innerHTML = docLinkHtml;\n",
              "          element.appendChild(docLink);\n",
              "        }\n",
              "      </script>\n",
              "    </div>\n",
              "  </div>\n",
              "  "
            ]
          },
          "metadata": {},
          "execution_count": 21
        }
      ]
    },
    {
      "cell_type": "code",
      "source": [
        "\n",
        "df.shape"
      ],
      "metadata": {
        "colab": {
          "base_uri": "https://localhost:8080/"
        },
        "id": "roBfunTzH4cW",
        "outputId": "c28c83e2-d91e-4e9c-b719-c035f98b3f7b"
      },
      "execution_count": 9,
      "outputs": [
        {
          "output_type": "execute_result",
          "data": {
            "text/plain": [
              "(24165, 18)"
            ]
          },
          "metadata": {},
          "execution_count": 9
        }
      ]
    },
    {
      "cell_type": "code",
      "source": [
        "#Checking for null values of each feature after data cleaning\n",
        "df.isnull().sum()"
      ],
      "metadata": {
        "colab": {
          "base_uri": "https://localhost:8080/"
        },
        "id": "jyLL9Rjlep3G",
        "outputId": "0666862f-4966-4ed9-d10b-7efa7319bc83"
      },
      "execution_count": 90,
      "outputs": [
        {
          "output_type": "execute_result",
          "data": {
            "text/plain": [
              "Land Use                             0\n",
              "Sale Price                           0\n",
              "Sold As Vacant                       0\n",
              "Multiple Parcels Involved in Sale    0\n",
              "Acreage                              0\n",
              "Tax District                         0\n",
              "Neighborhood                         0\n",
              "Land Value                           0\n",
              "Building Value                       0\n",
              "Total Value                          0\n",
              "Finished Area                        0\n",
              "Foundation Type                      0\n",
              "Year Built                           0\n",
              "Exterior Wall                        0\n",
              "Grade                                0\n",
              "Bedrooms                             0\n",
              "Full Bath                            0\n",
              "Half Bath                            0\n",
              "dtype: int64"
            ]
          },
          "metadata": {},
          "execution_count": 90
        }
      ]
    },
    {
      "cell_type": "markdown",
      "source": [
        "The Datset consists of 18 features and 24013 records after removing the null values"
      ],
      "metadata": {
        "id": "rdMI9WymdoUp"
      }
    },
    {
      "cell_type": "markdown",
      "source": [
        "#Exploratory Data Analysis (EDA)"
      ],
      "metadata": {
        "id": "yZgbLOG4sCXT"
      }
    },
    {
      "cell_type": "code",
      "source": [
        "sns.set(style='whitegrid')\n",
        "f,ax = plt.subplots(2,2,figsize = (16,12))\n",
        "\n",
        "vis1 = sns.distplot(df['Sale Price'], bins=40, color='red', kde=True, hist_kws=dict(edgecolor='black', linewidth=2),ax= ax[0][0])\n",
        "vis2 = sns.distplot(df['Land Value'], bins=40, color='red', kde=True, hist_kws=dict(edgecolor='black', linewidth=2),ax= ax[0][1])\n",
        "vis3 = sns.distplot(df['Building Value'], bins=40, color='red', kde=True, hist_kws=dict(edgecolor='black', linewidth=2),ax= ax[1][0])\n",
        "vis4 = sns.distplot(df['Total Value'], bins=40, color='red', kde=True, hist_kws=dict(edgecolor='black', linewidth=2),ax= ax[1][1])\n",
        "\n",
        "plt.show()"
      ],
      "metadata": {
        "id": "j9uh2GeIuUCI"
      },
      "execution_count": null,
      "outputs": []
    },
    {
      "cell_type": "code",
      "source": [
        "#skewness and kurtosis\n",
        "print(\"Skewness of the Sale Price: \", df['Sale Price'].skew())\n",
        "print(\"Kurtosis of the Sale Price: \", df['Sale Price'].kurt())"
      ],
      "metadata": {
        "colab": {
          "base_uri": "https://localhost:8080/"
        },
        "id": "kotmFdC60lcZ",
        "outputId": "69d71ba4-5452-4e15-f59f-3564853f846c"
      },
      "execution_count": 15,
      "outputs": [
        {
          "output_type": "stream",
          "name": "stdout",
          "text": [
            "Skewness of the Sale Price:  6.48661823326166\n",
            "Kurtosis of the Sale Price:  104.46220114408551\n"
          ]
        }
      ]
    },
    {
      "cell_type": "code",
      "source": [
        "def scatter_df():\n",
        "  for feature in numerical_features:\n",
        "    if feature != 'Sale Price':\n",
        "      plot = sns.scatterplot(x=df[feature], y=df['Sale Price'])\n",
        "      plt.title('{} / Sale Price'.format(feature), fontsize = 16)\n",
        "      plt.show()\n",
        "\n",
        "scatter_df()"
      ],
      "metadata": {
        "id": "ABWSBeNodfZC"
      },
      "execution_count": null,
      "outputs": []
    },
    {
      "cell_type": "code",
      "source": [
        "df['Land Use'].value_counts()"
      ],
      "metadata": {
        "colab": {
          "base_uri": "https://localhost:8080/"
        },
        "id": "keDoiXrXcrUl",
        "outputId": "b4392426-fe3f-4a31-97d5-0d402b149ec7"
      },
      "execution_count": 39,
      "outputs": [
        {
          "output_type": "execute_result",
          "data": {
            "text/plain": [
              "SINGLE FAMILY                             21284\n",
              "DUPLEX                                     1184\n",
              "ZERO LOT LINE                               845\n",
              "VACANT RESIDENTIAL LAND                     473\n",
              "TRIPLEX                                      76\n",
              "RESIDENTIAL CONDO                            36\n",
              "QUADPLEX                                     34\n",
              "CHURCH                                       24\n",
              "DORMITORY/BOARDING HOUSE                     14\n",
              "SPLIT CLASS                                  13\n",
              "PARSONAGE                                     5\n",
              "GREENBELT                                     4\n",
              "FOREST                                        3\n",
              "MOBILE HOME                                   2\n",
              "OFFICE BLDG (ONE OR TWO STORIES)              2\n",
              "DAY CARE CENTER                               2\n",
              "APARTMENT: LOW RISE (BUILT SINCE 1960)        2\n",
              "TERMINAL/DISTRIBUTION WAREHOUSE               2\n",
              "NON-PROFIT CHARITABLE SERVICE                 2\n",
              "STRIP SHOPPING CENTER                         1\n",
              "CONVENIENCE MARKET WITHOUT GAS                1\n",
              "CLUB/UNION HALL/LODGE                         1\n",
              "LIGHT MANUFACTURING                           1\n",
              "ONE STORY GENERAL RETAIL STORE                1\n",
              "GREENBELT/RES\\nGRRENBELT/RES                  1\n",
              "Name: Land Use, dtype: int64"
            ]
          },
          "metadata": {},
          "execution_count": 39
        }
      ]
    },
    {
      "cell_type": "code",
      "source": [
        "df['Tax District'].value_counts()"
      ],
      "metadata": {
        "colab": {
          "base_uri": "https://localhost:8080/"
        },
        "id": "Jss9XUi-jwWh",
        "outputId": "64c43358-9074-4751-864c-57b2e4e5dd92"
      },
      "execution_count": 40,
      "outputs": [
        {
          "output_type": "execute_result",
          "data": {
            "text/plain": [
              "URBAN SERVICES DISTRICT      18387\n",
              "GENERAL SERVICES DISTRICT     4296\n",
              "CITY OF GOODLETTSVILLE         369\n",
              "CITY OF OAK HILL               360\n",
              "CITY OF FOREST HILLS           360\n",
              "CITY OF BELLE MEADE            220\n",
              "CITY OF BERRY HILL              21\n",
              "Name: Tax District, dtype: int64"
            ]
          },
          "metadata": {},
          "execution_count": 40
        }
      ]
    },
    {
      "cell_type": "code",
      "source": [
        "df['Foundation Type'].value_counts()"
      ],
      "metadata": {
        "colab": {
          "base_uri": "https://localhost:8080/"
        },
        "id": "SZy-hfbNX-FL",
        "outputId": "5082e3e4-c925-466f-9f0a-51abd4215fa3"
      },
      "execution_count": 41,
      "outputs": [
        {
          "output_type": "execute_result",
          "data": {
            "text/plain": [
              "CRAWL        15305\n",
              "FULL BSMT     3895\n",
              "PT BSMT       3175\n",
              "SLAB          1574\n",
              "PIERS           37\n",
              "TYPICAL         27\n",
              "Name: Foundation Type, dtype: int64"
            ]
          },
          "metadata": {},
          "execution_count": 41
        }
      ]
    },
    {
      "cell_type": "code",
      "source": [
        "df['Exterior Wall'].value_counts()"
      ],
      "metadata": {
        "colab": {
          "base_uri": "https://localhost:8080/"
        },
        "id": "yWNYU-CkYGb8",
        "outputId": "b08e71ae-b4da-441e-e880-2aadbab8039f"
      },
      "execution_count": 42,
      "outputs": [
        {
          "output_type": "execute_result",
          "data": {
            "text/plain": [
              "BRICK           11895\n",
              "FRAME            8774\n",
              "BRICK/FRAME      2596\n",
              "STONE             330\n",
              "STUCCO            168\n",
              "CONC BLK          112\n",
              "FRAME/STONE       108\n",
              "LOG                15\n",
              "METAL              14\n",
              "PRECAST CONC        1\n",
              "Name: Exterior Wall, dtype: int64"
            ]
          },
          "metadata": {},
          "execution_count": 42
        }
      ]
    },
    {
      "cell_type": "code",
      "source": [
        "df['Grade'].value_counts()"
      ],
      "metadata": {
        "colab": {
          "base_uri": "https://localhost:8080/"
        },
        "id": "TaD20Y9sM6eA",
        "outputId": "eb45ebc7-d8de-4604-ee7c-6ad2ab7481ba"
      },
      "execution_count": 43,
      "outputs": [
        {
          "output_type": "execute_result",
          "data": {
            "text/plain": [
              "C       17174\n",
              "B        3667\n",
              "D        1966\n",
              "A         596\n",
              "X         523\n",
              "E          60\n",
              "TCC        14\n",
              "IDC         3\n",
              "AAC         2\n",
              "OMB         1\n",
              "OFC         1\n",
              "SSC         1\n",
              "TFC         1\n",
              "SRD         1\n",
              "SRC         1\n",
              "TAC         1\n",
              "OFB         1\n",
              "Name: Grade, dtype: int64"
            ]
          },
          "metadata": {},
          "execution_count": 43
        }
      ]
    },
    {
      "cell_type": "code",
      "source": [
        "#One-hot encoding the categorical columns\n",
        "\n",
        "from sklearn.preprocessing import OneHotEncoder\n",
        "\n",
        "OH_encoder = OneHotEncoder(sparse=False, handle_unknown='ignore', min_frequency=1500)\n",
        "OH_cols = pd.DataFrame(OH_encoder.fit_transform(df[categorical_features]))\n",
        "OH_cols.index = df.index\n",
        "df2 = df.drop(categorical_features, axis=1)\n",
        "df = pd.concat([df2, OH_cols], axis=1)"
      ],
      "metadata": {
        "colab": {
          "base_uri": "https://localhost:8080/"
        },
        "id": "7DnDn4Mqrgf0",
        "outputId": "1b3ad5e1-a0c9-4a9c-dc79-4965c450727d"
      },
      "execution_count": 44,
      "outputs": [
        {
          "output_type": "stream",
          "name": "stderr",
          "text": [
            "/usr/local/lib/python3.10/dist-packages/sklearn/preprocessing/_encoders.py:868: FutureWarning: `sparse` was renamed to `sparse_output` in version 1.2 and will be removed in 1.4. `sparse_output` is ignored unless you leave `sparse` to its default value.\n",
            "  warnings.warn(\n"
          ]
        }
      ]
    },
    {
      "cell_type": "code",
      "source": [
        "df.shape"
      ],
      "metadata": {
        "colab": {
          "base_uri": "https://localhost:8080/"
        },
        "id": "4iS1Pe-Ij2aS",
        "outputId": "70b18642-4dc1-42c3-c310-af6e52c14292"
      },
      "execution_count": 45,
      "outputs": [
        {
          "output_type": "execute_result",
          "data": {
            "text/plain": [
              "(24013, 33)"
            ]
          },
          "metadata": {},
          "execution_count": 45
        }
      ]
    },
    {
      "cell_type": "code",
      "source": [
        "df.columns"
      ],
      "metadata": {
        "colab": {
          "base_uri": "https://localhost:8080/"
        },
        "id": "XOm7tsRFcgTM",
        "outputId": "2492455c-2fb2-42e3-82c0-b7874bd757cf"
      },
      "execution_count": 47,
      "outputs": [
        {
          "output_type": "execute_result",
          "data": {
            "text/plain": [
              "Index([    'Sale Price',        'Acreage',   'Neighborhood',     'Land Value',\n",
              "       'Building Value',    'Total Value',  'Finished Area',     'Year Built',\n",
              "             'Bedrooms',      'Full Bath',      'Half Bath',                0,\n",
              "                      1,                2,                3,                4,\n",
              "                      5,                6,                7,                8,\n",
              "                      9,               10,               11,               12,\n",
              "                     13,               14,               15,               16,\n",
              "                     17,               18,               19,               20,\n",
              "                     21],\n",
              "      dtype='object')"
            ]
          },
          "metadata": {},
          "execution_count": 47
        }
      ]
    },
    {
      "cell_type": "code",
      "source": [
        "target= 'Sale Price'\n",
        "X = df.drop([target], axis=1)\n",
        "y = df[target]"
      ],
      "metadata": {
        "id": "LS4h_Vjj270I"
      },
      "execution_count": 82,
      "outputs": []
    },
    {
      "cell_type": "code",
      "source": [
        "X.columns = X.columns.astype(str)"
      ],
      "metadata": {
        "id": "w4X95uCqcK1w"
      },
      "execution_count": 49,
      "outputs": []
    },
    {
      "cell_type": "code",
      "source": [
        "from sklearn.model_selection import train_test_split\n",
        "X_train, X_test, y_train, y_test = train_test_split(X, y, test_size = 0.2, random_state = 0)\n",
        "\n",
        "print('Original set --> ', X.shape,y.shape, '\\nTraining set --> ', X_train.shape,y_train.shape, '\\nTesting set  --> ', X_test.shape,y_test.shape)"
      ],
      "metadata": {
        "id": "hk8teEAh-ho1",
        "colab": {
          "base_uri": "https://localhost:8080/"
        },
        "outputId": "253ef295-55eb-49d8-e6c4-d5c47c15d034"
      },
      "execution_count": 50,
      "outputs": [
        {
          "output_type": "stream",
          "name": "stdout",
          "text": [
            "Original set -->  (24013, 32) (24013,) \n",
            "Training set -->  (19210, 32) (19210,) \n",
            "Testing set  -->  (4803, 32) (4803,)\n"
          ]
        }
      ]
    },
    {
      "cell_type": "code",
      "source": [
        "from sklearn.linear_model import LinearRegression\n",
        "from sklearn.preprocessing import PolynomialFeatures\n",
        "from sklearn.ensemble import GradientBoostingRegressor\n",
        "from sklearn.preprocessing import StandardScaler\n",
        "from sklearn.metrics import mean_absolute_error\n",
        "\n",
        "from sklearn.linear_model import Ridge\n",
        "from sklearn.linear_model import Lasso\n",
        "from xgboost import XGBRegressor"
      ],
      "metadata": {
        "id": "GcZOr42QzqSR"
      },
      "execution_count": 73,
      "outputs": []
    },
    {
      "cell_type": "code",
      "source": [
        "# Scaling the numerical features using\n",
        "scaler = StandardScaler()\n",
        "X_train_scaled = scaler.fit_transform(X_train.select_dtypes(['int','float']))\n",
        "X_test_scaled = scaler.transform(X_test.select_dtypes(['int', 'float']))"
      ],
      "metadata": {
        "id": "-b40LwQ7VpuW"
      },
      "execution_count": 52,
      "outputs": []
    },
    {
      "cell_type": "code",
      "source": [
        "#Linear Regression\n",
        "model1 = LinearRegression()\n",
        "lr = model1.fit(X_train_scaled, y_train)"
      ],
      "metadata": {
        "id": "7gTX_sUyteT7"
      },
      "execution_count": 53,
      "outputs": []
    },
    {
      "cell_type": "code",
      "source": [
        "print(\"LR Train R2 Score: \", lr.score(X_train_scaled, y_train))\n",
        "print(\"LR Test R2 Score: \", lr.score(X_test_scaled, y_test))"
      ],
      "metadata": {
        "colab": {
          "base_uri": "https://localhost:8080/"
        },
        "id": "EIMuPwYbeSWg",
        "outputId": "0e6a960b-31de-492c-b845-42315cae60d5"
      },
      "execution_count": 54,
      "outputs": [
        {
          "output_type": "stream",
          "name": "stdout",
          "text": [
            "LR Train R2 Score:  0.7463155847860587\n",
            "LR Test R2 Score:  0.615372815131666\n"
          ]
        }
      ]
    },
    {
      "cell_type": "code",
      "source": [
        "y_pred_lr = model1.predict(X_test_scaled)"
      ],
      "metadata": {
        "id": "jFHN6jFg9XAv"
      },
      "execution_count": 55,
      "outputs": []
    },
    {
      "cell_type": "code",
      "source": [
        "mae = mean_absolute_error(y_test, y_pred_lr)\n",
        "print('Linear Regression MAE: ', mae)"
      ],
      "metadata": {
        "colab": {
          "base_uri": "https://localhost:8080/"
        },
        "id": "E8hsoDCEpHOs",
        "outputId": "b71bc9e0-ee80-4a04-8357-3653b09fb263"
      },
      "execution_count": 56,
      "outputs": [
        {
          "output_type": "stream",
          "name": "stdout",
          "text": [
            "Linear Regression MAE:  78450.0916637655\n"
          ]
        }
      ]
    },
    {
      "cell_type": "code",
      "source": [
        "poly = PolynomialFeatures(degree=2)\n",
        "X_train_poly = poly.fit_transform(X_train_scaled)\n",
        "X_test_poly = poly.transform(X_test_scaled)"
      ],
      "metadata": {
        "id": "bFdUvGI0zqn-"
      },
      "execution_count": 57,
      "outputs": []
    },
    {
      "cell_type": "code",
      "source": [
        "X_train_poly.shape"
      ],
      "metadata": {
        "id": "VlFePKxU4yLG",
        "colab": {
          "base_uri": "https://localhost:8080/"
        },
        "outputId": "ab17174b-8843-4416-9fdf-ea02ba526071"
      },
      "execution_count": 58,
      "outputs": [
        {
          "output_type": "execute_result",
          "data": {
            "text/plain": [
              "(19210, 561)"
            ]
          },
          "metadata": {},
          "execution_count": 58
        }
      ]
    },
    {
      "cell_type": "code",
      "source": [
        "X_test_poly.shape"
      ],
      "metadata": {
        "colab": {
          "base_uri": "https://localhost:8080/"
        },
        "id": "xOn5iH0OWUcM",
        "outputId": "f83357f1-87f5-42ed-bd0c-212a0ebe9917"
      },
      "execution_count": 59,
      "outputs": [
        {
          "output_type": "execute_result",
          "data": {
            "text/plain": [
              "(4803, 561)"
            ]
          },
          "metadata": {},
          "execution_count": 59
        }
      ]
    },
    {
      "cell_type": "code",
      "source": [
        "polymodel = LinearRegression()\n",
        "pf = polymodel.fit(X_train_poly, y_train)"
      ],
      "metadata": {
        "id": "PR5teiwy_K8O"
      },
      "execution_count": 60,
      "outputs": []
    },
    {
      "cell_type": "code",
      "source": [
        "print(\"PLR Train R2 Score: \", pf.score(X_train_poly, y_train))\n",
        "print(\"PLR Test R2 Score: \", pf.score(X_test_poly, y_test))"
      ],
      "metadata": {
        "id": "fwHGfO5b0bqq",
        "colab": {
          "base_uri": "https://localhost:8080/"
        },
        "outputId": "d0cd8bdb-eda7-435c-e928-3ec9cbdf4323"
      },
      "execution_count": 61,
      "outputs": [
        {
          "output_type": "stream",
          "name": "stdout",
          "text": [
            "PLR Train R2 Score:  0.8128760259355992\n",
            "PLR Test R2 Score:  0.5839035248581856\n"
          ]
        }
      ]
    },
    {
      "cell_type": "code",
      "source": [
        "ridge = Ridge(alpha=10000)\n",
        "rd = ridge.fit(X_train_poly, y_train)"
      ],
      "metadata": {
        "id": "Bmyii2rT4Qb8"
      },
      "execution_count": 62,
      "outputs": []
    },
    {
      "cell_type": "code",
      "source": [
        "print(\"RidgeReg Train R2 Score: \", rd.score(X_train_poly, y_train))\n",
        "print(\"RidgeReg Test R2 Score: \", rd.score(X_test_poly, y_test))"
      ],
      "metadata": {
        "id": "dGTnPq4VFUWH",
        "colab": {
          "base_uri": "https://localhost:8080/"
        },
        "outputId": "99b2c6db-d49d-4927-d8b6-39a630dacf3c"
      },
      "execution_count": 63,
      "outputs": [
        {
          "output_type": "stream",
          "name": "stdout",
          "text": [
            "RidgeReg Train R2 Score:  0.7740550400132991\n",
            "RidgeReg Test R2 Score:  0.6128033801283539\n"
          ]
        }
      ]
    },
    {
      "cell_type": "code",
      "source": [
        "y_pred_rd = ridge.predict(X_test_poly)"
      ],
      "metadata": {
        "id": "DjG9XqSgJs4y"
      },
      "execution_count": 64,
      "outputs": []
    },
    {
      "cell_type": "code",
      "source": [
        "mae_rd = mean_absolute_error(y_test, y_pred_rd)\n",
        "print('Ridge Regression MAE: ', mae_rd)"
      ],
      "metadata": {
        "id": "5oeKspE2J0jt",
        "colab": {
          "base_uri": "https://localhost:8080/"
        },
        "outputId": "2e8581b1-e413-4fb7-e660-832a11c1f2bf"
      },
      "execution_count": 65,
      "outputs": [
        {
          "output_type": "stream",
          "name": "stdout",
          "text": [
            "Ridge Regression MAE:  82484.3992968068\n"
          ]
        }
      ]
    },
    {
      "cell_type": "code",
      "source": [
        "lasso = Lasso(alpha=10000)\n",
        "ls = lasso.fit(X_train_poly, y_train)"
      ],
      "metadata": {
        "id": "_xbjBJmy2MXp"
      },
      "execution_count": 80,
      "outputs": []
    },
    {
      "cell_type": "code",
      "source": [
        "print(\"Lasso Train R2 Score: \", ls.score(X_train_poly, y_train))\n",
        "print(\"Lasso Test R2 Score: \", ls.score(X_test_poly, y_test))"
      ],
      "metadata": {
        "colab": {
          "base_uri": "https://localhost:8080/"
        },
        "id": "tZ4hp9Md2nY-",
        "outputId": "892ecbe6-827a-41a3-9dfe-3cbd694d9071"
      },
      "execution_count": 81,
      "outputs": [
        {
          "output_type": "stream",
          "name": "stdout",
          "text": [
            "Lasso Train R2 Score:  0.7696660108157882\n",
            "Lasso Test R2 Score:  0.6172034662680745\n"
          ]
        }
      ]
    },
    {
      "cell_type": "code",
      "source": [
        "gbr = GradientBoostingRegressor(n_estimators=2500, learning_rate=0.1, max_depth=2)\n",
        "gbr.fit(X_train_scaled, y_train)"
      ],
      "metadata": {
        "id": "U-E-X0QAqSxh",
        "colab": {
          "base_uri": "https://localhost:8080/",
          "height": 74
        },
        "outputId": "5f144043-c7b7-4c3c-f343-4955617b0b84"
      },
      "execution_count": 66,
      "outputs": [
        {
          "output_type": "execute_result",
          "data": {
            "text/plain": [
              "GradientBoostingRegressor(max_depth=2, n_estimators=2500)"
            ],
            "text/html": [
              "<style>#sk-container-id-1 {color: black;background-color: white;}#sk-container-id-1 pre{padding: 0;}#sk-container-id-1 div.sk-toggleable {background-color: white;}#sk-container-id-1 label.sk-toggleable__label {cursor: pointer;display: block;width: 100%;margin-bottom: 0;padding: 0.3em;box-sizing: border-box;text-align: center;}#sk-container-id-1 label.sk-toggleable__label-arrow:before {content: \"▸\";float: left;margin-right: 0.25em;color: #696969;}#sk-container-id-1 label.sk-toggleable__label-arrow:hover:before {color: black;}#sk-container-id-1 div.sk-estimator:hover label.sk-toggleable__label-arrow:before {color: black;}#sk-container-id-1 div.sk-toggleable__content {max-height: 0;max-width: 0;overflow: hidden;text-align: left;background-color: #f0f8ff;}#sk-container-id-1 div.sk-toggleable__content pre {margin: 0.2em;color: black;border-radius: 0.25em;background-color: #f0f8ff;}#sk-container-id-1 input.sk-toggleable__control:checked~div.sk-toggleable__content {max-height: 200px;max-width: 100%;overflow: auto;}#sk-container-id-1 input.sk-toggleable__control:checked~label.sk-toggleable__label-arrow:before {content: \"▾\";}#sk-container-id-1 div.sk-estimator input.sk-toggleable__control:checked~label.sk-toggleable__label {background-color: #d4ebff;}#sk-container-id-1 div.sk-label input.sk-toggleable__control:checked~label.sk-toggleable__label {background-color: #d4ebff;}#sk-container-id-1 input.sk-hidden--visually {border: 0;clip: rect(1px 1px 1px 1px);clip: rect(1px, 1px, 1px, 1px);height: 1px;margin: -1px;overflow: hidden;padding: 0;position: absolute;width: 1px;}#sk-container-id-1 div.sk-estimator {font-family: monospace;background-color: #f0f8ff;border: 1px dotted black;border-radius: 0.25em;box-sizing: border-box;margin-bottom: 0.5em;}#sk-container-id-1 div.sk-estimator:hover {background-color: #d4ebff;}#sk-container-id-1 div.sk-parallel-item::after {content: \"\";width: 100%;border-bottom: 1px solid gray;flex-grow: 1;}#sk-container-id-1 div.sk-label:hover label.sk-toggleable__label {background-color: #d4ebff;}#sk-container-id-1 div.sk-serial::before {content: \"\";position: absolute;border-left: 1px solid gray;box-sizing: border-box;top: 0;bottom: 0;left: 50%;z-index: 0;}#sk-container-id-1 div.sk-serial {display: flex;flex-direction: column;align-items: center;background-color: white;padding-right: 0.2em;padding-left: 0.2em;position: relative;}#sk-container-id-1 div.sk-item {position: relative;z-index: 1;}#sk-container-id-1 div.sk-parallel {display: flex;align-items: stretch;justify-content: center;background-color: white;position: relative;}#sk-container-id-1 div.sk-item::before, #sk-container-id-1 div.sk-parallel-item::before {content: \"\";position: absolute;border-left: 1px solid gray;box-sizing: border-box;top: 0;bottom: 0;left: 50%;z-index: -1;}#sk-container-id-1 div.sk-parallel-item {display: flex;flex-direction: column;z-index: 1;position: relative;background-color: white;}#sk-container-id-1 div.sk-parallel-item:first-child::after {align-self: flex-end;width: 50%;}#sk-container-id-1 div.sk-parallel-item:last-child::after {align-self: flex-start;width: 50%;}#sk-container-id-1 div.sk-parallel-item:only-child::after {width: 0;}#sk-container-id-1 div.sk-dashed-wrapped {border: 1px dashed gray;margin: 0 0.4em 0.5em 0.4em;box-sizing: border-box;padding-bottom: 0.4em;background-color: white;}#sk-container-id-1 div.sk-label label {font-family: monospace;font-weight: bold;display: inline-block;line-height: 1.2em;}#sk-container-id-1 div.sk-label-container {text-align: center;}#sk-container-id-1 div.sk-container {/* jupyter's `normalize.less` sets `[hidden] { display: none; }` but bootstrap.min.css set `[hidden] { display: none !important; }` so we also need the `!important` here to be able to override the default hidden behavior on the sphinx rendered scikit-learn.org. See: https://github.com/scikit-learn/scikit-learn/issues/21755 */display: inline-block !important;position: relative;}#sk-container-id-1 div.sk-text-repr-fallback {display: none;}</style><div id=\"sk-container-id-1\" class=\"sk-top-container\"><div class=\"sk-text-repr-fallback\"><pre>GradientBoostingRegressor(max_depth=2, n_estimators=2500)</pre><b>In a Jupyter environment, please rerun this cell to show the HTML representation or trust the notebook. <br />On GitHub, the HTML representation is unable to render, please try loading this page with nbviewer.org.</b></div><div class=\"sk-container\" hidden><div class=\"sk-item\"><div class=\"sk-estimator sk-toggleable\"><input class=\"sk-toggleable__control sk-hidden--visually\" id=\"sk-estimator-id-1\" type=\"checkbox\" checked><label for=\"sk-estimator-id-1\" class=\"sk-toggleable__label sk-toggleable__label-arrow\">GradientBoostingRegressor</label><div class=\"sk-toggleable__content\"><pre>GradientBoostingRegressor(max_depth=2, n_estimators=2500)</pre></div></div></div></div></div>"
            ]
          },
          "metadata": {},
          "execution_count": 66
        }
      ]
    },
    {
      "cell_type": "code",
      "source": [
        "print(\"GB Train R2 Score: \", gbr.score(X_train_scaled, y_train))\n",
        "print(\"GB Test R2 Score: \", gbr.score(X_test_scaled, y_test))"
      ],
      "metadata": {
        "id": "cV_SkSJABAW8",
        "colab": {
          "base_uri": "https://localhost:8080/"
        },
        "outputId": "c5221d02-97c0-48cb-a92b-37b83a5bfd96"
      },
      "execution_count": 67,
      "outputs": [
        {
          "output_type": "stream",
          "name": "stdout",
          "text": [
            "GB Train R2 Score:  0.896244272656313\n",
            "GB Test R2 Score:  0.6348866373263566\n"
          ]
        }
      ]
    },
    {
      "cell_type": "code",
      "source": [
        "xgb = XGBRegressor(n_estimators=2500, learning_rate=0.5, n_jobs=5, reg_alpha=5)\n",
        "xgb.fit(X_train_scaled, y_train)"
      ],
      "metadata": {
        "id": "6tCu8rK6k0Wp",
        "colab": {
          "base_uri": "https://localhost:8080/",
          "height": 248
        },
        "outputId": "96e9710e-76cc-489a-ea87-32b59dea5cd1"
      },
      "execution_count": 70,
      "outputs": [
        {
          "output_type": "execute_result",
          "data": {
            "text/plain": [
              "XGBRegressor(base_score=None, booster=None, callbacks=None,\n",
              "             colsample_bylevel=None, colsample_bynode=None,\n",
              "             colsample_bytree=None, early_stopping_rounds=None,\n",
              "             enable_categorical=False, eval_metric=None, feature_types=None,\n",
              "             gamma=None, gpu_id=None, grow_policy=None, importance_type=None,\n",
              "             interaction_constraints=None, learning_rate=0.5, max_bin=None,\n",
              "             max_cat_threshold=None, max_cat_to_onehot=None,\n",
              "             max_delta_step=None, max_depth=None, max_leaves=None,\n",
              "             min_child_weight=None, missing=nan, monotone_constraints=None,\n",
              "             n_estimators=2500, n_jobs=5, num_parallel_tree=None,\n",
              "             predictor=None, random_state=None, ...)"
            ],
            "text/html": [
              "<style>#sk-container-id-3 {color: black;background-color: white;}#sk-container-id-3 pre{padding: 0;}#sk-container-id-3 div.sk-toggleable {background-color: white;}#sk-container-id-3 label.sk-toggleable__label {cursor: pointer;display: block;width: 100%;margin-bottom: 0;padding: 0.3em;box-sizing: border-box;text-align: center;}#sk-container-id-3 label.sk-toggleable__label-arrow:before {content: \"▸\";float: left;margin-right: 0.25em;color: #696969;}#sk-container-id-3 label.sk-toggleable__label-arrow:hover:before {color: black;}#sk-container-id-3 div.sk-estimator:hover label.sk-toggleable__label-arrow:before {color: black;}#sk-container-id-3 div.sk-toggleable__content {max-height: 0;max-width: 0;overflow: hidden;text-align: left;background-color: #f0f8ff;}#sk-container-id-3 div.sk-toggleable__content pre {margin: 0.2em;color: black;border-radius: 0.25em;background-color: #f0f8ff;}#sk-container-id-3 input.sk-toggleable__control:checked~div.sk-toggleable__content {max-height: 200px;max-width: 100%;overflow: auto;}#sk-container-id-3 input.sk-toggleable__control:checked~label.sk-toggleable__label-arrow:before {content: \"▾\";}#sk-container-id-3 div.sk-estimator input.sk-toggleable__control:checked~label.sk-toggleable__label {background-color: #d4ebff;}#sk-container-id-3 div.sk-label input.sk-toggleable__control:checked~label.sk-toggleable__label {background-color: #d4ebff;}#sk-container-id-3 input.sk-hidden--visually {border: 0;clip: rect(1px 1px 1px 1px);clip: rect(1px, 1px, 1px, 1px);height: 1px;margin: -1px;overflow: hidden;padding: 0;position: absolute;width: 1px;}#sk-container-id-3 div.sk-estimator {font-family: monospace;background-color: #f0f8ff;border: 1px dotted black;border-radius: 0.25em;box-sizing: border-box;margin-bottom: 0.5em;}#sk-container-id-3 div.sk-estimator:hover {background-color: #d4ebff;}#sk-container-id-3 div.sk-parallel-item::after {content: \"\";width: 100%;border-bottom: 1px solid gray;flex-grow: 1;}#sk-container-id-3 div.sk-label:hover label.sk-toggleable__label {background-color: #d4ebff;}#sk-container-id-3 div.sk-serial::before {content: \"\";position: absolute;border-left: 1px solid gray;box-sizing: border-box;top: 0;bottom: 0;left: 50%;z-index: 0;}#sk-container-id-3 div.sk-serial {display: flex;flex-direction: column;align-items: center;background-color: white;padding-right: 0.2em;padding-left: 0.2em;position: relative;}#sk-container-id-3 div.sk-item {position: relative;z-index: 1;}#sk-container-id-3 div.sk-parallel {display: flex;align-items: stretch;justify-content: center;background-color: white;position: relative;}#sk-container-id-3 div.sk-item::before, #sk-container-id-3 div.sk-parallel-item::before {content: \"\";position: absolute;border-left: 1px solid gray;box-sizing: border-box;top: 0;bottom: 0;left: 50%;z-index: -1;}#sk-container-id-3 div.sk-parallel-item {display: flex;flex-direction: column;z-index: 1;position: relative;background-color: white;}#sk-container-id-3 div.sk-parallel-item:first-child::after {align-self: flex-end;width: 50%;}#sk-container-id-3 div.sk-parallel-item:last-child::after {align-self: flex-start;width: 50%;}#sk-container-id-3 div.sk-parallel-item:only-child::after {width: 0;}#sk-container-id-3 div.sk-dashed-wrapped {border: 1px dashed gray;margin: 0 0.4em 0.5em 0.4em;box-sizing: border-box;padding-bottom: 0.4em;background-color: white;}#sk-container-id-3 div.sk-label label {font-family: monospace;font-weight: bold;display: inline-block;line-height: 1.2em;}#sk-container-id-3 div.sk-label-container {text-align: center;}#sk-container-id-3 div.sk-container {/* jupyter's `normalize.less` sets `[hidden] { display: none; }` but bootstrap.min.css set `[hidden] { display: none !important; }` so we also need the `!important` here to be able to override the default hidden behavior on the sphinx rendered scikit-learn.org. See: https://github.com/scikit-learn/scikit-learn/issues/21755 */display: inline-block !important;position: relative;}#sk-container-id-3 div.sk-text-repr-fallback {display: none;}</style><div id=\"sk-container-id-3\" class=\"sk-top-container\"><div class=\"sk-text-repr-fallback\"><pre>XGBRegressor(base_score=None, booster=None, callbacks=None,\n",
              "             colsample_bylevel=None, colsample_bynode=None,\n",
              "             colsample_bytree=None, early_stopping_rounds=None,\n",
              "             enable_categorical=False, eval_metric=None, feature_types=None,\n",
              "             gamma=None, gpu_id=None, grow_policy=None, importance_type=None,\n",
              "             interaction_constraints=None, learning_rate=0.5, max_bin=None,\n",
              "             max_cat_threshold=None, max_cat_to_onehot=None,\n",
              "             max_delta_step=None, max_depth=None, max_leaves=None,\n",
              "             min_child_weight=None, missing=nan, monotone_constraints=None,\n",
              "             n_estimators=2500, n_jobs=5, num_parallel_tree=None,\n",
              "             predictor=None, random_state=None, ...)</pre><b>In a Jupyter environment, please rerun this cell to show the HTML representation or trust the notebook. <br />On GitHub, the HTML representation is unable to render, please try loading this page with nbviewer.org.</b></div><div class=\"sk-container\" hidden><div class=\"sk-item\"><div class=\"sk-estimator sk-toggleable\"><input class=\"sk-toggleable__control sk-hidden--visually\" id=\"sk-estimator-id-3\" type=\"checkbox\" checked><label for=\"sk-estimator-id-3\" class=\"sk-toggleable__label sk-toggleable__label-arrow\">XGBRegressor</label><div class=\"sk-toggleable__content\"><pre>XGBRegressor(base_score=None, booster=None, callbacks=None,\n",
              "             colsample_bylevel=None, colsample_bynode=None,\n",
              "             colsample_bytree=None, early_stopping_rounds=None,\n",
              "             enable_categorical=False, eval_metric=None, feature_types=None,\n",
              "             gamma=None, gpu_id=None, grow_policy=None, importance_type=None,\n",
              "             interaction_constraints=None, learning_rate=0.5, max_bin=None,\n",
              "             max_cat_threshold=None, max_cat_to_onehot=None,\n",
              "             max_delta_step=None, max_depth=None, max_leaves=None,\n",
              "             min_child_weight=None, missing=nan, monotone_constraints=None,\n",
              "             n_estimators=2500, n_jobs=5, num_parallel_tree=None,\n",
              "             predictor=None, random_state=None, ...)</pre></div></div></div></div></div>"
            ]
          },
          "metadata": {},
          "execution_count": 70
        }
      ]
    },
    {
      "cell_type": "code",
      "source": [
        "print(\"XGB R^2 Score: \", xgb.score(X_train_scaled, y_train))\n",
        "print(\"XGB Test R^2 Score: \", xgb.score(X_test_scaled, y_test))"
      ],
      "metadata": {
        "id": "ilvpU4GGeDUe",
        "colab": {
          "base_uri": "https://localhost:8080/"
        },
        "outputId": "70225e76-218b-499b-98c3-34472ba71970"
      },
      "execution_count": 71,
      "outputs": [
        {
          "output_type": "stream",
          "name": "stdout",
          "text": [
            "XGB R^2 Score:  0.9755746752519037\n",
            "XGB Test R^2 Score:  0.605980176874508\n"
          ]
        }
      ]
    },
    {
      "cell_type": "code",
      "source": [],
      "metadata": {
        "id": "gTTec7SKgALz"
      },
      "execution_count": 47,
      "outputs": []
    }
  ]
}