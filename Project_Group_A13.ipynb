{
  "nbformat": 4,
  "nbformat_minor": 0,
  "metadata": {
    "colab": {
      "provenance": [],
      "include_colab_link": true
    },
    "kernelspec": {
      "name": "python3",
      "display_name": "Python 3"
    },
    "language_info": {
      "name": "python"
    }
  },
  "cells": [
    {
      "cell_type": "markdown",
      "metadata": {
        "id": "view-in-github",
        "colab_type": "text"
      },
      "source": [
        "<a href=\"https://colab.research.google.com/github/nanda1296/Predictive-Analytics-for-Real-Estate/blob/Different_models/Project_Group_A13.ipynb\" target=\"_parent\"><img src=\"https://colab.research.google.com/assets/colab-badge.svg\" alt=\"Open In Colab\"/></a>"
      ]
    },
    {
      "cell_type": "code",
      "source": [
        "from google.colab import drive\n",
        "drive.mount('/content/drive')"
      ],
      "metadata": {
        "id": "-yTS4jABSH5V",
        "colab": {
          "base_uri": "https://localhost:8080/"
        },
        "outputId": "cc596aa1-a243-466f-bf58-d7668cd23e52"
      },
      "execution_count": 67,
      "outputs": [
        {
          "output_type": "stream",
          "name": "stdout",
          "text": [
            "Drive already mounted at /content/drive; to attempt to forcibly remount, call drive.mount(\"/content/drive\", force_remount=True).\n"
          ]
        }
      ]
    },
    {
      "cell_type": "code",
      "execution_count": 68,
      "metadata": {
        "id": "lgGokGmK8isi"
      },
      "outputs": [],
      "source": [
        "import pandas as pd\n",
        "import numpy as np\n",
        "import matplotlib.pyplot as plt\n",
        "import seaborn as sns"
      ]
    },
    {
      "cell_type": "code",
      "source": [
        "df = pd.read_excel('/content/drive/MyDrive/Colab Notebooks/Dataset/Spring 2023 - AISC - Nest Analytics_Toronto_housing_data_Cleaned.xlsx')\n",
        "df = df.drop(df.columns[0],axis=1)\n",
        "df.head()"
      ],
      "metadata": {
        "id": "WQdGNqbb8szQ",
        "colab": {
          "base_uri": "https://localhost:8080/",
          "height": 507
        },
        "outputId": "518157ec-340f-4c52-a0e5-1a2859ab41df"
      },
      "execution_count": 92,
      "outputs": [
        {
          "output_type": "execute_result",
          "data": {
            "text/plain": [
              "            Land Use  Property Address Suite/ RESIDENTIAL CONDO#  Sale Date  \\\n",
              "0  RESIDENTIAL CONDO    1208 3RD AVE S                         8 2013-01-24   \n",
              "1      SINGLE FAMILY   1802 STEWART PL                       NaN 2013-01-11   \n",
              "2      SINGLE FAMILY  2761 ROSEDALE PL                       NaN 2013-01-18   \n",
              "3      SINGLE FAMILY  224 PEACHTREE ST                       NaN 2013-01-18   \n",
              "4      SINGLE FAMILY      316 LUTIE ST                       NaN 2013-01-23   \n",
              "\n",
              "   Sale Price   Legal Reference Sold As Vacant  \\\n",
              "0      132000  20130128-0008725             No   \n",
              "1      191500  20130118-0006337             No   \n",
              "2      202000  20130124-0008033             No   \n",
              "3       32000  20130128-0008863             No   \n",
              "4      102000  20130131-0009929             No   \n",
              "\n",
              "  Multiple Parcels Involved in Sale                     Owner Name  \\\n",
              "0                                No                            NaN   \n",
              "1                                No              STINSON, LAURA M.   \n",
              "2                                No                NUNES, JARED R.   \n",
              "3                                No                WHITFORD, KAREN   \n",
              "4                                No  HENDERSON, JAMES P. & LYNN P.   \n",
              "\n",
              "            Address  ...  Building Value  Total Value Finished Area  \\\n",
              "0               NaN  ...             NaN          NaN           NaN   \n",
              "1   1802 STEWART PL  ...        134400.0     168300.0    1149.00000   \n",
              "2  2761 ROSEDALE PL  ...        157800.0     191800.0    2090.82495   \n",
              "3  224 PEACHTREE ST  ...        243700.0     268700.0    2145.60001   \n",
              "4      316 LUTIE ST  ...        138100.0     164800.0    1969.00000   \n",
              "\n",
              "   Foundation Type  Year Built  Exterior Wall  Grade  Bedrooms Full Bath  \\\n",
              "0              NaN         NaN            NaN    NaN       NaN       NaN   \n",
              "1          PT BSMT      1941.0          BRICK   C          2.0       1.0   \n",
              "2             SLAB      2000.0    BRICK/FRAME   C          3.0       2.0   \n",
              "3        FULL BSMT      1948.0    BRICK/FRAME   B          4.0       2.0   \n",
              "4            CRAWL      1910.0          FRAME   C          2.0       1.0   \n",
              "\n",
              "   Half Bath  \n",
              "0        NaN  \n",
              "1        0.0  \n",
              "2        1.0  \n",
              "3        0.0  \n",
              "4        0.0  \n",
              "\n",
              "[5 rows x 25 columns]"
            ],
            "text/html": [
              "\n",
              "  <div id=\"df-73f35f3e-405b-408b-9c8b-16bea2f43834\">\n",
              "    <div class=\"colab-df-container\">\n",
              "      <div>\n",
              "<style scoped>\n",
              "    .dataframe tbody tr th:only-of-type {\n",
              "        vertical-align: middle;\n",
              "    }\n",
              "\n",
              "    .dataframe tbody tr th {\n",
              "        vertical-align: top;\n",
              "    }\n",
              "\n",
              "    .dataframe thead th {\n",
              "        text-align: right;\n",
              "    }\n",
              "</style>\n",
              "<table border=\"1\" class=\"dataframe\">\n",
              "  <thead>\n",
              "    <tr style=\"text-align: right;\">\n",
              "      <th></th>\n",
              "      <th>Land Use</th>\n",
              "      <th>Property Address</th>\n",
              "      <th>Suite/ RESIDENTIAL CONDO#</th>\n",
              "      <th>Sale Date</th>\n",
              "      <th>Sale Price</th>\n",
              "      <th>Legal Reference</th>\n",
              "      <th>Sold As Vacant</th>\n",
              "      <th>Multiple Parcels Involved in Sale</th>\n",
              "      <th>Owner Name</th>\n",
              "      <th>Address</th>\n",
              "      <th>...</th>\n",
              "      <th>Building Value</th>\n",
              "      <th>Total Value</th>\n",
              "      <th>Finished Area</th>\n",
              "      <th>Foundation Type</th>\n",
              "      <th>Year Built</th>\n",
              "      <th>Exterior Wall</th>\n",
              "      <th>Grade</th>\n",
              "      <th>Bedrooms</th>\n",
              "      <th>Full Bath</th>\n",
              "      <th>Half Bath</th>\n",
              "    </tr>\n",
              "  </thead>\n",
              "  <tbody>\n",
              "    <tr>\n",
              "      <th>0</th>\n",
              "      <td>RESIDENTIAL CONDO</td>\n",
              "      <td>1208 3RD AVE S</td>\n",
              "      <td>8</td>\n",
              "      <td>2013-01-24</td>\n",
              "      <td>132000</td>\n",
              "      <td>20130128-0008725</td>\n",
              "      <td>No</td>\n",
              "      <td>No</td>\n",
              "      <td>NaN</td>\n",
              "      <td>NaN</td>\n",
              "      <td>...</td>\n",
              "      <td>NaN</td>\n",
              "      <td>NaN</td>\n",
              "      <td>NaN</td>\n",
              "      <td>NaN</td>\n",
              "      <td>NaN</td>\n",
              "      <td>NaN</td>\n",
              "      <td>NaN</td>\n",
              "      <td>NaN</td>\n",
              "      <td>NaN</td>\n",
              "      <td>NaN</td>\n",
              "    </tr>\n",
              "    <tr>\n",
              "      <th>1</th>\n",
              "      <td>SINGLE FAMILY</td>\n",
              "      <td>1802 STEWART PL</td>\n",
              "      <td>NaN</td>\n",
              "      <td>2013-01-11</td>\n",
              "      <td>191500</td>\n",
              "      <td>20130118-0006337</td>\n",
              "      <td>No</td>\n",
              "      <td>No</td>\n",
              "      <td>STINSON, LAURA M.</td>\n",
              "      <td>1802 STEWART PL</td>\n",
              "      <td>...</td>\n",
              "      <td>134400.0</td>\n",
              "      <td>168300.0</td>\n",
              "      <td>1149.00000</td>\n",
              "      <td>PT BSMT</td>\n",
              "      <td>1941.0</td>\n",
              "      <td>BRICK</td>\n",
              "      <td>C</td>\n",
              "      <td>2.0</td>\n",
              "      <td>1.0</td>\n",
              "      <td>0.0</td>\n",
              "    </tr>\n",
              "    <tr>\n",
              "      <th>2</th>\n",
              "      <td>SINGLE FAMILY</td>\n",
              "      <td>2761 ROSEDALE PL</td>\n",
              "      <td>NaN</td>\n",
              "      <td>2013-01-18</td>\n",
              "      <td>202000</td>\n",
              "      <td>20130124-0008033</td>\n",
              "      <td>No</td>\n",
              "      <td>No</td>\n",
              "      <td>NUNES, JARED R.</td>\n",
              "      <td>2761 ROSEDALE PL</td>\n",
              "      <td>...</td>\n",
              "      <td>157800.0</td>\n",
              "      <td>191800.0</td>\n",
              "      <td>2090.82495</td>\n",
              "      <td>SLAB</td>\n",
              "      <td>2000.0</td>\n",
              "      <td>BRICK/FRAME</td>\n",
              "      <td>C</td>\n",
              "      <td>3.0</td>\n",
              "      <td>2.0</td>\n",
              "      <td>1.0</td>\n",
              "    </tr>\n",
              "    <tr>\n",
              "      <th>3</th>\n",
              "      <td>SINGLE FAMILY</td>\n",
              "      <td>224 PEACHTREE ST</td>\n",
              "      <td>NaN</td>\n",
              "      <td>2013-01-18</td>\n",
              "      <td>32000</td>\n",
              "      <td>20130128-0008863</td>\n",
              "      <td>No</td>\n",
              "      <td>No</td>\n",
              "      <td>WHITFORD, KAREN</td>\n",
              "      <td>224 PEACHTREE ST</td>\n",
              "      <td>...</td>\n",
              "      <td>243700.0</td>\n",
              "      <td>268700.0</td>\n",
              "      <td>2145.60001</td>\n",
              "      <td>FULL BSMT</td>\n",
              "      <td>1948.0</td>\n",
              "      <td>BRICK/FRAME</td>\n",
              "      <td>B</td>\n",
              "      <td>4.0</td>\n",
              "      <td>2.0</td>\n",
              "      <td>0.0</td>\n",
              "    </tr>\n",
              "    <tr>\n",
              "      <th>4</th>\n",
              "      <td>SINGLE FAMILY</td>\n",
              "      <td>316 LUTIE ST</td>\n",
              "      <td>NaN</td>\n",
              "      <td>2013-01-23</td>\n",
              "      <td>102000</td>\n",
              "      <td>20130131-0009929</td>\n",
              "      <td>No</td>\n",
              "      <td>No</td>\n",
              "      <td>HENDERSON, JAMES P. &amp; LYNN P.</td>\n",
              "      <td>316 LUTIE ST</td>\n",
              "      <td>...</td>\n",
              "      <td>138100.0</td>\n",
              "      <td>164800.0</td>\n",
              "      <td>1969.00000</td>\n",
              "      <td>CRAWL</td>\n",
              "      <td>1910.0</td>\n",
              "      <td>FRAME</td>\n",
              "      <td>C</td>\n",
              "      <td>2.0</td>\n",
              "      <td>1.0</td>\n",
              "      <td>0.0</td>\n",
              "    </tr>\n",
              "  </tbody>\n",
              "</table>\n",
              "<p>5 rows × 25 columns</p>\n",
              "</div>\n",
              "      <button class=\"colab-df-convert\" onclick=\"convertToInteractive('df-73f35f3e-405b-408b-9c8b-16bea2f43834')\"\n",
              "              title=\"Convert this dataframe to an interactive table.\"\n",
              "              style=\"display:none;\">\n",
              "        \n",
              "  <svg xmlns=\"http://www.w3.org/2000/svg\" height=\"24px\"viewBox=\"0 0 24 24\"\n",
              "       width=\"24px\">\n",
              "    <path d=\"M0 0h24v24H0V0z\" fill=\"none\"/>\n",
              "    <path d=\"M18.56 5.44l.94 2.06.94-2.06 2.06-.94-2.06-.94-.94-2.06-.94 2.06-2.06.94zm-11 1L8.5 8.5l.94-2.06 2.06-.94-2.06-.94L8.5 2.5l-.94 2.06-2.06.94zm10 10l.94 2.06.94-2.06 2.06-.94-2.06-.94-.94-2.06-.94 2.06-2.06.94z\"/><path d=\"M17.41 7.96l-1.37-1.37c-.4-.4-.92-.59-1.43-.59-.52 0-1.04.2-1.43.59L10.3 9.45l-7.72 7.72c-.78.78-.78 2.05 0 2.83L4 21.41c.39.39.9.59 1.41.59.51 0 1.02-.2 1.41-.59l7.78-7.78 2.81-2.81c.8-.78.8-2.07 0-2.86zM5.41 20L4 18.59l7.72-7.72 1.47 1.35L5.41 20z\"/>\n",
              "  </svg>\n",
              "      </button>\n",
              "      \n",
              "  <style>\n",
              "    .colab-df-container {\n",
              "      display:flex;\n",
              "      flex-wrap:wrap;\n",
              "      gap: 12px;\n",
              "    }\n",
              "\n",
              "    .colab-df-convert {\n",
              "      background-color: #E8F0FE;\n",
              "      border: none;\n",
              "      border-radius: 50%;\n",
              "      cursor: pointer;\n",
              "      display: none;\n",
              "      fill: #1967D2;\n",
              "      height: 32px;\n",
              "      padding: 0 0 0 0;\n",
              "      width: 32px;\n",
              "    }\n",
              "\n",
              "    .colab-df-convert:hover {\n",
              "      background-color: #E2EBFA;\n",
              "      box-shadow: 0px 1px 2px rgba(60, 64, 67, 0.3), 0px 1px 3px 1px rgba(60, 64, 67, 0.15);\n",
              "      fill: #174EA6;\n",
              "    }\n",
              "\n",
              "    [theme=dark] .colab-df-convert {\n",
              "      background-color: #3B4455;\n",
              "      fill: #D2E3FC;\n",
              "    }\n",
              "\n",
              "    [theme=dark] .colab-df-convert:hover {\n",
              "      background-color: #434B5C;\n",
              "      box-shadow: 0px 1px 3px 1px rgba(0, 0, 0, 0.15);\n",
              "      filter: drop-shadow(0px 1px 2px rgba(0, 0, 0, 0.3));\n",
              "      fill: #FFFFFF;\n",
              "    }\n",
              "  </style>\n",
              "\n",
              "      <script>\n",
              "        const buttonEl =\n",
              "          document.querySelector('#df-73f35f3e-405b-408b-9c8b-16bea2f43834 button.colab-df-convert');\n",
              "        buttonEl.style.display =\n",
              "          google.colab.kernel.accessAllowed ? 'block' : 'none';\n",
              "\n",
              "        async function convertToInteractive(key) {\n",
              "          const element = document.querySelector('#df-73f35f3e-405b-408b-9c8b-16bea2f43834');\n",
              "          const dataTable =\n",
              "            await google.colab.kernel.invokeFunction('convertToInteractive',\n",
              "                                                     [key], {});\n",
              "          if (!dataTable) return;\n",
              "\n",
              "          const docLinkHtml = 'Like what you see? Visit the ' +\n",
              "            '<a target=\"_blank\" href=https://colab.research.google.com/notebooks/data_table.ipynb>data table notebook</a>'\n",
              "            + ' to learn more about interactive tables.';\n",
              "          element.innerHTML = '';\n",
              "          dataTable['output_type'] = 'display_data';\n",
              "          await google.colab.output.renderOutput(dataTable, element);\n",
              "          const docLink = document.createElement('div');\n",
              "          docLink.innerHTML = docLinkHtml;\n",
              "          element.appendChild(docLink);\n",
              "        }\n",
              "      </script>\n",
              "    </div>\n",
              "  </div>\n",
              "  "
            ]
          },
          "metadata": {},
          "execution_count": 92
        }
      ]
    },
    {
      "cell_type": "code",
      "source": [
        "df.shape"
      ],
      "metadata": {
        "colab": {
          "base_uri": "https://localhost:8080/"
        },
        "id": "_0Sg1AZ_khAi",
        "outputId": "694aa6f2-6591-4fbd-aa16-3293e5c41b46"
      },
      "execution_count": 93,
      "outputs": [
        {
          "output_type": "execute_result",
          "data": {
            "text/plain": [
              "(56636, 25)"
            ]
          },
          "metadata": {},
          "execution_count": 93
        }
      ]
    },
    {
      "cell_type": "code",
      "source": [
        "#checking the data types of all the features\n",
        "df.info()"
      ],
      "metadata": {
        "colab": {
          "base_uri": "https://localhost:8080/"
        },
        "id": "_hePhY-3Lhek",
        "outputId": "35aece66-0466-42de-b195-227d3eb52cba"
      },
      "execution_count": 94,
      "outputs": [
        {
          "output_type": "stream",
          "name": "stdout",
          "text": [
            "<class 'pandas.core.frame.DataFrame'>\n",
            "RangeIndex: 56636 entries, 0 to 56635\n",
            "Data columns (total 25 columns):\n",
            " #   Column                                 Non-Null Count  Dtype         \n",
            "---  ------                                 --------------  -----         \n",
            " 0   Land Use                               56636 non-null  object        \n",
            " 1   Property Address                       56477 non-null  object        \n",
            " 2   Suite/ RESIDENTIAL CONDO#              6109 non-null   object        \n",
            " 3   Sale Date                              56636 non-null  datetime64[ns]\n",
            " 4   Sale Price                             56636 non-null  int64         \n",
            " 5   Legal Reference                        56636 non-null  object        \n",
            " 6   Sold As Vacant                         56636 non-null  object        \n",
            " 7   Multiple Parcels Involved in Sale      56636 non-null  object        \n",
            " 8   Owner Name                             25261 non-null  object        \n",
            " 9   Address                                26017 non-null  object        \n",
            " 10  Is (Property Address = Owner Address)  56636 non-null  bool          \n",
            " 11  Acreage                                26017 non-null  float64       \n",
            " 12  Tax District                           26017 non-null  object        \n",
            " 13  Neighborhood                           26017 non-null  float64       \n",
            " 14  Land Value                             26017 non-null  float64       \n",
            " 15  Building Value                         26017 non-null  float64       \n",
            " 16  Total Value                            26017 non-null  float64       \n",
            " 17  Finished Area                          24166 non-null  float64       \n",
            " 18  Foundation Type                        24164 non-null  object        \n",
            " 19  Year Built                             24165 non-null  float64       \n",
            " 20  Exterior Wall                          24165 non-null  object        \n",
            " 21  Grade                                  24165 non-null  object        \n",
            " 22  Bedrooms                               24159 non-null  float64       \n",
            " 23  Full Bath                              24277 non-null  float64       \n",
            " 24  Half Bath                              24146 non-null  float64       \n",
            "dtypes: bool(1), datetime64[ns](1), float64(10), int64(1), object(12)\n",
            "memory usage: 10.4+ MB\n"
          ]
        }
      ]
    },
    {
      "cell_type": "code",
      "source": [
        "#Checking for null values of each feature\n",
        "df.isnull().sum().sort_values(ascending=False)"
      ],
      "metadata": {
        "colab": {
          "base_uri": "https://localhost:8080/"
        },
        "id": "57fcMNFRMSW_",
        "outputId": "b37c53df-9285-4bcd-b3ee-87ed6ab1567a"
      },
      "execution_count": 95,
      "outputs": [
        {
          "output_type": "execute_result",
          "data": {
            "text/plain": [
              "Suite/ RESIDENTIAL CONDO#                50527\n",
              "Half Bath                                32490\n",
              "Bedrooms                                 32477\n",
              "Foundation Type                          32472\n",
              "Grade                                    32471\n",
              "Exterior Wall                            32471\n",
              "Year Built                               32471\n",
              "Finished Area                            32470\n",
              "Full Bath                                32359\n",
              "Owner Name                               31375\n",
              "Land Value                               30619\n",
              "Total Value                              30619\n",
              "Building Value                           30619\n",
              "Tax District                             30619\n",
              "Neighborhood                             30619\n",
              "Acreage                                  30619\n",
              "Address                                  30619\n",
              "Property Address                           159\n",
              "Is (Property Address = Owner Address)        0\n",
              "Multiple Parcels Involved in Sale            0\n",
              "Sold As Vacant                               0\n",
              "Legal Reference                              0\n",
              "Sale Price                                   0\n",
              "Sale Date                                    0\n",
              "Land Use                                     0\n",
              "dtype: int64"
            ]
          },
          "metadata": {},
          "execution_count": 95
        }
      ]
    },
    {
      "cell_type": "code",
      "source": [
        "#Checking for unique rows in each feature\n",
        "df.nunique().sort_values(ascending=False)"
      ],
      "metadata": {
        "colab": {
          "base_uri": "https://localhost:8080/"
        },
        "id": "bidoEPTJesvs",
        "outputId": "a75b3be3-8b50-41ee-b30d-4a142a26f6f5"
      },
      "execution_count": 96,
      "outputs": [
        {
          "output_type": "execute_result",
          "data": {
            "text/plain": [
              "Legal Reference                          52898\n",
              "Property Address                         43179\n",
              "Address                                  22327\n",
              "Owner Name                               19713\n",
              "Sale Price                                8085\n",
              "Finished Area                             6117\n",
              "Total Value                               5848\n",
              "Building Value                            4406\n",
              "Suite/ RESIDENTIAL CONDO#                 1475\n",
              "Land Value                                1122\n",
              "Sale Date                                 1117\n",
              "Acreage                                    519\n",
              "Neighborhood                               203\n",
              "Year Built                                 126\n",
              "Land Use                                    35\n",
              "Grade                                       20\n",
              "Bedrooms                                    12\n",
              "Full Bath                                   11\n",
              "Exterior Wall                               10\n",
              "Tax District                                 7\n",
              "Foundation Type                              6\n",
              "Half Bath                                    4\n",
              "Is (Property Address = Owner Address)        2\n",
              "Multiple Parcels Involved in Sale            2\n",
              "Sold As Vacant                               2\n",
              "dtype: int64"
            ]
          },
          "metadata": {},
          "execution_count": 96
        }
      ]
    },
    {
      "cell_type": "code",
      "source": [
        "df.describe()"
      ],
      "metadata": {
        "colab": {
          "base_uri": "https://localhost:8080/",
          "height": 300
        },
        "id": "2fDHIIfRfTE1",
        "outputId": "4e459513-c55b-4fc9-ae55-a5d4b6ae4546"
      },
      "execution_count": 97,
      "outputs": [
        {
          "output_type": "execute_result",
          "data": {
            "text/plain": [
              "         Sale Price       Acreage  Neighborhood    Land Value  Building Value  \\\n",
              "count  5.663600e+04  26017.000000  26017.000000  2.601700e+04    2.601700e+04   \n",
              "mean   3.272111e+05      0.498903   4356.215782  6.907267e+04    1.608025e+05   \n",
              "std    9.287425e+05      1.570396   2170.348270  1.060405e+05    2.068041e+05   \n",
              "min    5.000000e+01      0.010000    107.000000  1.000000e+02    0.000000e+00   \n",
              "25%    1.350000e+05      0.180000   3126.000000  2.100000e+04    7.590000e+04   \n",
              "50%    2.054500e+05      0.270000   3929.000000  2.880000e+04    1.114000e+05   \n",
              "75%    3.290000e+05      0.450000   6228.000000  6.000000e+04    1.807000e+05   \n",
              "max    5.427806e+07    160.060000   9530.000000  2.772000e+06    1.297180e+07   \n",
              "\n",
              "        Total Value  Finished Area    Year Built      Bedrooms     Full Bath  \\\n",
              "count  2.601700e+04   24166.000000  24165.000000  24159.000000  24277.000000   \n",
              "mean   2.323971e+05    1926.954345   1963.749224      3.090029      1.886106   \n",
              "std    2.810703e+05    1687.017313     26.546141      0.852942      0.961572   \n",
              "min    1.000000e+02       0.000000   1799.000000      0.000000      0.000000   \n",
              "25%    1.028000e+05    1239.000000   1948.000000      3.000000      1.000000   \n",
              "50%    1.485000e+05    1632.000000   1960.000000      3.000000      2.000000   \n",
              "75%    2.685000e+05    2212.000000   1983.000000      3.000000      2.000000   \n",
              "max    1.394040e+07  197988.000000   2017.000000     11.000000     10.000000   \n",
              "\n",
              "          Half Bath  \n",
              "count  24146.000000  \n",
              "mean       0.283981  \n",
              "std        0.487905  \n",
              "min        0.000000  \n",
              "25%        0.000000  \n",
              "50%        0.000000  \n",
              "75%        1.000000  \n",
              "max        3.000000  "
            ],
            "text/html": [
              "\n",
              "  <div id=\"df-615c5464-517a-4906-a2f8-7c89e1e5eaf6\">\n",
              "    <div class=\"colab-df-container\">\n",
              "      <div>\n",
              "<style scoped>\n",
              "    .dataframe tbody tr th:only-of-type {\n",
              "        vertical-align: middle;\n",
              "    }\n",
              "\n",
              "    .dataframe tbody tr th {\n",
              "        vertical-align: top;\n",
              "    }\n",
              "\n",
              "    .dataframe thead th {\n",
              "        text-align: right;\n",
              "    }\n",
              "</style>\n",
              "<table border=\"1\" class=\"dataframe\">\n",
              "  <thead>\n",
              "    <tr style=\"text-align: right;\">\n",
              "      <th></th>\n",
              "      <th>Sale Price</th>\n",
              "      <th>Acreage</th>\n",
              "      <th>Neighborhood</th>\n",
              "      <th>Land Value</th>\n",
              "      <th>Building Value</th>\n",
              "      <th>Total Value</th>\n",
              "      <th>Finished Area</th>\n",
              "      <th>Year Built</th>\n",
              "      <th>Bedrooms</th>\n",
              "      <th>Full Bath</th>\n",
              "      <th>Half Bath</th>\n",
              "    </tr>\n",
              "  </thead>\n",
              "  <tbody>\n",
              "    <tr>\n",
              "      <th>count</th>\n",
              "      <td>5.663600e+04</td>\n",
              "      <td>26017.000000</td>\n",
              "      <td>26017.000000</td>\n",
              "      <td>2.601700e+04</td>\n",
              "      <td>2.601700e+04</td>\n",
              "      <td>2.601700e+04</td>\n",
              "      <td>24166.000000</td>\n",
              "      <td>24165.000000</td>\n",
              "      <td>24159.000000</td>\n",
              "      <td>24277.000000</td>\n",
              "      <td>24146.000000</td>\n",
              "    </tr>\n",
              "    <tr>\n",
              "      <th>mean</th>\n",
              "      <td>3.272111e+05</td>\n",
              "      <td>0.498903</td>\n",
              "      <td>4356.215782</td>\n",
              "      <td>6.907267e+04</td>\n",
              "      <td>1.608025e+05</td>\n",
              "      <td>2.323971e+05</td>\n",
              "      <td>1926.954345</td>\n",
              "      <td>1963.749224</td>\n",
              "      <td>3.090029</td>\n",
              "      <td>1.886106</td>\n",
              "      <td>0.283981</td>\n",
              "    </tr>\n",
              "    <tr>\n",
              "      <th>std</th>\n",
              "      <td>9.287425e+05</td>\n",
              "      <td>1.570396</td>\n",
              "      <td>2170.348270</td>\n",
              "      <td>1.060405e+05</td>\n",
              "      <td>2.068041e+05</td>\n",
              "      <td>2.810703e+05</td>\n",
              "      <td>1687.017313</td>\n",
              "      <td>26.546141</td>\n",
              "      <td>0.852942</td>\n",
              "      <td>0.961572</td>\n",
              "      <td>0.487905</td>\n",
              "    </tr>\n",
              "    <tr>\n",
              "      <th>min</th>\n",
              "      <td>5.000000e+01</td>\n",
              "      <td>0.010000</td>\n",
              "      <td>107.000000</td>\n",
              "      <td>1.000000e+02</td>\n",
              "      <td>0.000000e+00</td>\n",
              "      <td>1.000000e+02</td>\n",
              "      <td>0.000000</td>\n",
              "      <td>1799.000000</td>\n",
              "      <td>0.000000</td>\n",
              "      <td>0.000000</td>\n",
              "      <td>0.000000</td>\n",
              "    </tr>\n",
              "    <tr>\n",
              "      <th>25%</th>\n",
              "      <td>1.350000e+05</td>\n",
              "      <td>0.180000</td>\n",
              "      <td>3126.000000</td>\n",
              "      <td>2.100000e+04</td>\n",
              "      <td>7.590000e+04</td>\n",
              "      <td>1.028000e+05</td>\n",
              "      <td>1239.000000</td>\n",
              "      <td>1948.000000</td>\n",
              "      <td>3.000000</td>\n",
              "      <td>1.000000</td>\n",
              "      <td>0.000000</td>\n",
              "    </tr>\n",
              "    <tr>\n",
              "      <th>50%</th>\n",
              "      <td>2.054500e+05</td>\n",
              "      <td>0.270000</td>\n",
              "      <td>3929.000000</td>\n",
              "      <td>2.880000e+04</td>\n",
              "      <td>1.114000e+05</td>\n",
              "      <td>1.485000e+05</td>\n",
              "      <td>1632.000000</td>\n",
              "      <td>1960.000000</td>\n",
              "      <td>3.000000</td>\n",
              "      <td>2.000000</td>\n",
              "      <td>0.000000</td>\n",
              "    </tr>\n",
              "    <tr>\n",
              "      <th>75%</th>\n",
              "      <td>3.290000e+05</td>\n",
              "      <td>0.450000</td>\n",
              "      <td>6228.000000</td>\n",
              "      <td>6.000000e+04</td>\n",
              "      <td>1.807000e+05</td>\n",
              "      <td>2.685000e+05</td>\n",
              "      <td>2212.000000</td>\n",
              "      <td>1983.000000</td>\n",
              "      <td>3.000000</td>\n",
              "      <td>2.000000</td>\n",
              "      <td>1.000000</td>\n",
              "    </tr>\n",
              "    <tr>\n",
              "      <th>max</th>\n",
              "      <td>5.427806e+07</td>\n",
              "      <td>160.060000</td>\n",
              "      <td>9530.000000</td>\n",
              "      <td>2.772000e+06</td>\n",
              "      <td>1.297180e+07</td>\n",
              "      <td>1.394040e+07</td>\n",
              "      <td>197988.000000</td>\n",
              "      <td>2017.000000</td>\n",
              "      <td>11.000000</td>\n",
              "      <td>10.000000</td>\n",
              "      <td>3.000000</td>\n",
              "    </tr>\n",
              "  </tbody>\n",
              "</table>\n",
              "</div>\n",
              "      <button class=\"colab-df-convert\" onclick=\"convertToInteractive('df-615c5464-517a-4906-a2f8-7c89e1e5eaf6')\"\n",
              "              title=\"Convert this dataframe to an interactive table.\"\n",
              "              style=\"display:none;\">\n",
              "        \n",
              "  <svg xmlns=\"http://www.w3.org/2000/svg\" height=\"24px\"viewBox=\"0 0 24 24\"\n",
              "       width=\"24px\">\n",
              "    <path d=\"M0 0h24v24H0V0z\" fill=\"none\"/>\n",
              "    <path d=\"M18.56 5.44l.94 2.06.94-2.06 2.06-.94-2.06-.94-.94-2.06-.94 2.06-2.06.94zm-11 1L8.5 8.5l.94-2.06 2.06-.94-2.06-.94L8.5 2.5l-.94 2.06-2.06.94zm10 10l.94 2.06.94-2.06 2.06-.94-2.06-.94-.94-2.06-.94 2.06-2.06.94z\"/><path d=\"M17.41 7.96l-1.37-1.37c-.4-.4-.92-.59-1.43-.59-.52 0-1.04.2-1.43.59L10.3 9.45l-7.72 7.72c-.78.78-.78 2.05 0 2.83L4 21.41c.39.39.9.59 1.41.59.51 0 1.02-.2 1.41-.59l7.78-7.78 2.81-2.81c.8-.78.8-2.07 0-2.86zM5.41 20L4 18.59l7.72-7.72 1.47 1.35L5.41 20z\"/>\n",
              "  </svg>\n",
              "      </button>\n",
              "      \n",
              "  <style>\n",
              "    .colab-df-container {\n",
              "      display:flex;\n",
              "      flex-wrap:wrap;\n",
              "      gap: 12px;\n",
              "    }\n",
              "\n",
              "    .colab-df-convert {\n",
              "      background-color: #E8F0FE;\n",
              "      border: none;\n",
              "      border-radius: 50%;\n",
              "      cursor: pointer;\n",
              "      display: none;\n",
              "      fill: #1967D2;\n",
              "      height: 32px;\n",
              "      padding: 0 0 0 0;\n",
              "      width: 32px;\n",
              "    }\n",
              "\n",
              "    .colab-df-convert:hover {\n",
              "      background-color: #E2EBFA;\n",
              "      box-shadow: 0px 1px 2px rgba(60, 64, 67, 0.3), 0px 1px 3px 1px rgba(60, 64, 67, 0.15);\n",
              "      fill: #174EA6;\n",
              "    }\n",
              "\n",
              "    [theme=dark] .colab-df-convert {\n",
              "      background-color: #3B4455;\n",
              "      fill: #D2E3FC;\n",
              "    }\n",
              "\n",
              "    [theme=dark] .colab-df-convert:hover {\n",
              "      background-color: #434B5C;\n",
              "      box-shadow: 0px 1px 3px 1px rgba(0, 0, 0, 0.15);\n",
              "      filter: drop-shadow(0px 1px 2px rgba(0, 0, 0, 0.3));\n",
              "      fill: #FFFFFF;\n",
              "    }\n",
              "  </style>\n",
              "\n",
              "      <script>\n",
              "        const buttonEl =\n",
              "          document.querySelector('#df-615c5464-517a-4906-a2f8-7c89e1e5eaf6 button.colab-df-convert');\n",
              "        buttonEl.style.display =\n",
              "          google.colab.kernel.accessAllowed ? 'block' : 'none';\n",
              "\n",
              "        async function convertToInteractive(key) {\n",
              "          const element = document.querySelector('#df-615c5464-517a-4906-a2f8-7c89e1e5eaf6');\n",
              "          const dataTable =\n",
              "            await google.colab.kernel.invokeFunction('convertToInteractive',\n",
              "                                                     [key], {});\n",
              "          if (!dataTable) return;\n",
              "\n",
              "          const docLinkHtml = 'Like what you see? Visit the ' +\n",
              "            '<a target=\"_blank\" href=https://colab.research.google.com/notebooks/data_table.ipynb>data table notebook</a>'\n",
              "            + ' to learn more about interactive tables.';\n",
              "          element.innerHTML = '';\n",
              "          dataTable['output_type'] = 'display_data';\n",
              "          await google.colab.output.renderOutput(dataTable, element);\n",
              "          const docLink = document.createElement('div');\n",
              "          docLink.innerHTML = docLinkHtml;\n",
              "          element.appendChild(docLink);\n",
              "        }\n",
              "      </script>\n",
              "    </div>\n",
              "  </div>\n",
              "  "
            ]
          },
          "metadata": {},
          "execution_count": 97
        }
      ]
    },
    {
      "cell_type": "markdown",
      "source": [
        "#Data Exploration"
      ],
      "metadata": {
        "id": "VCTB3VGXfKdi"
      }
    },
    {
      "cell_type": "code",
      "source": [
        "plt.figure(figsize=[12,6])\n",
        "sns.heatmap(df.corr(), annot=True, cmap=\"Reds\")\n",
        "plt.title('Correlation Matrix \\n'.center(10))\n",
        "plt.show()"
      ],
      "metadata": {
        "colab": {
          "base_uri": "https://localhost:8080/",
          "height": 877
        },
        "id": "B2xU6LiYk4Bt",
        "outputId": "97fb4a60-268e-4479-fc3d-e0874c046fe1"
      },
      "execution_count": 98,
      "outputs": [
        {
          "output_type": "stream",
          "name": "stderr",
          "text": [
            "<ipython-input-98-71efaa35b498>:2: FutureWarning: The default value of numeric_only in DataFrame.corr is deprecated. In a future version, it will default to False. Select only valid columns or specify the value of numeric_only to silence this warning.\n",
            "  sns.heatmap(df.corr(), annot=True, cmap=\"Reds\")\n"
          ]
        },
        {
          "output_type": "display_data",
          "data": {
            "text/plain": [
              "<Figure size 1200x600 with 2 Axes>"
            ],
            "image/png": "[encoded data removed]"
          },
          "metadata": {}
        }
      ]
    },
    {
      "cell_type": "code",
      "source": [
        "df = df.drop(['Property Address','Suite/ RESIDENTIAL CONDO#','Legal Reference','Sale Date','Owner Name','Address'], axis=1)"
      ],
      "metadata": {
        "id": "ykTTL70OkgWd"
      },
      "execution_count": 99,
      "outputs": []
    },
    {
      "cell_type": "code",
      "source": [
        "col = list(df.columns)\n",
        "categorical_features = []\n",
        "numerical_features = []\n",
        "\n",
        "for i in col:\n",
        "        if df[i].dtype == 'object' or df[i].dtype == 'bool':\n",
        "            categorical_features.append(i)\n",
        "        else:\n",
        "            numerical_features.append(i)\n",
        "\n",
        "print('Categorical_Features: ', categorical_features)\n",
        "print('Numerical_Features: ', numerical_features)\n",
        "\n",
        "print('\\nInference: The Dataset has {} categorical & {} numerical features.'.format(len(categorical_features),len(numerical_features)))"
      ],
      "metadata": {
        "colab": {
          "base_uri": "https://localhost:8080/"
        },
        "id": "pAojAfiVkHxd",
        "outputId": "b0f3569b-66cd-42b6-efb1-553ed66e6857"
      },
      "execution_count": 100,
      "outputs": [
        {
          "output_type": "stream",
          "name": "stdout",
          "text": [
            "Categorical_Features:  ['Land Use', 'Sold As Vacant', 'Multiple Parcels Involved in Sale', 'Is (Property Address = Owner Address)', 'Tax District', 'Foundation Type', 'Exterior Wall', 'Grade']\n",
            "Numerical_Features:  ['Sale Price', 'Acreage', 'Neighborhood', 'Land Value', 'Building Value', 'Total Value', 'Finished Area', 'Year Built', 'Bedrooms', 'Full Bath', 'Half Bath']\n",
            "\n",
            "Inference: The Dataset has 8 categorical & 11 numerical features.\n"
          ]
        }
      ]
    },
    {
      "cell_type": "code",
      "source": [
        "df[categorical_features] = df[categorical_features].fillna(df[categorical_features].mode().iloc[0])\n",
        "df[numerical_features] = df[numerical_features].fillna(df[numerical_features].mean())"
      ],
      "metadata": {
        "id": "Yj1WMFmN943G"
      },
      "execution_count": 101,
      "outputs": []
    },
    {
      "cell_type": "code",
      "source": [
        "df = df.dropna(axis='rows')\n",
        "df.head()"
      ],
      "metadata": {
        "colab": {
          "base_uri": "https://localhost:8080/",
          "height": 513
        },
        "id": "uju8afnLYTJl",
        "outputId": "07f1cce7-5371-4fa3-ecb9-1ac32c2825a3"
      },
      "execution_count": 102,
      "outputs": [
        {
          "output_type": "execute_result",
          "data": {
            "text/plain": [
              "            Land Use  Sale Price Sold As Vacant  \\\n",
              "0  RESIDENTIAL CONDO      132000             No   \n",
              "1      SINGLE FAMILY      191500             No   \n",
              "2      SINGLE FAMILY      202000             No   \n",
              "3      SINGLE FAMILY       32000             No   \n",
              "4      SINGLE FAMILY      102000             No   \n",
              "\n",
              "  Multiple Parcels Involved in Sale  Is (Property Address = Owner Address)  \\\n",
              "0                                No                                  False   \n",
              "1                                No                                   True   \n",
              "2                                No                                   True   \n",
              "3                                No                                   True   \n",
              "4                                No                                   True   \n",
              "\n",
              "    Acreage             Tax District  Neighborhood    Land Value  \\\n",
              "0  0.498903  URBAN SERVICES DISTRICT   4356.215782  69072.665027   \n",
              "1  0.170000  URBAN SERVICES DISTRICT   3127.000000  32000.000000   \n",
              "2  0.110000       CITY OF BERRY HILL   9126.000000  34000.000000   \n",
              "3  0.170000  URBAN SERVICES DISTRICT   3130.000000  25000.000000   \n",
              "4  0.340000  URBAN SERVICES DISTRICT   3130.000000  25000.000000   \n",
              "\n",
              "   Building Value    Total Value  Finished Area Foundation Type   Year Built  \\\n",
              "0   160802.458969  232397.094246    1926.954345           CRAWL  1963.749224   \n",
              "1   134400.000000  168300.000000    1149.000000         PT BSMT  1941.000000   \n",
              "2   157800.000000  191800.000000    2090.824950            SLAB  2000.000000   \n",
              "3   243700.000000  268700.000000    2145.600010       FULL BSMT  1948.000000   \n",
              "4   138100.000000  164800.000000    1969.000000           CRAWL  1910.000000   \n",
              "\n",
              "  Exterior Wall Grade  Bedrooms  Full Bath  Half Bath  \n",
              "0         BRICK  C     3.090029   1.886106   0.283981  \n",
              "1         BRICK  C     2.000000   1.000000   0.000000  \n",
              "2   BRICK/FRAME  C     3.000000   2.000000   1.000000  \n",
              "3   BRICK/FRAME  B     4.000000   2.000000   0.000000  \n",
              "4         FRAME  C     2.000000   1.000000   0.000000  "
            ],
            "text/html": [
              "\n",
              "  <div id=\"df-e8803fc4-75a2-4909-ae2d-2e0b72e4a46e\">\n",
              "    <div class=\"colab-df-container\">\n",
              "      <div>\n",
              "<style scoped>\n",
              "    .dataframe tbody tr th:only-of-type {\n",
              "        vertical-align: middle;\n",
              "    }\n",
              "\n",
              "    .dataframe tbody tr th {\n",
              "        vertical-align: top;\n",
              "    }\n",
              "\n",
              "    .dataframe thead th {\n",
              "        text-align: right;\n",
              "    }\n",
              "</style>\n",
              "<table border=\"1\" class=\"dataframe\">\n",
              "  <thead>\n",
              "    <tr style=\"text-align: right;\">\n",
              "      <th></th>\n",
              "      <th>Land Use</th>\n",
              "      <th>Sale Price</th>\n",
              "      <th>Sold As Vacant</th>\n",
              "      <th>Multiple Parcels Involved in Sale</th>\n",
              "      <th>Is (Property Address = Owner Address)</th>\n",
              "      <th>Acreage</th>\n",
              "      <th>Tax District</th>\n",
              "      <th>Neighborhood</th>\n",
              "      <th>Land Value</th>\n",
              "      <th>Building Value</th>\n",
              "      <th>Total Value</th>\n",
              "      <th>Finished Area</th>\n",
              "      <th>Foundation Type</th>\n",
              "      <th>Year Built</th>\n",
              "      <th>Exterior Wall</th>\n",
              "      <th>Grade</th>\n",
              "      <th>Bedrooms</th>\n",
              "      <th>Full Bath</th>\n",
              "      <th>Half Bath</th>\n",
              "    </tr>\n",
              "  </thead>\n",
              "  <tbody>\n",
              "    <tr>\n",
              "      <th>0</th>\n",
              "      <td>RESIDENTIAL CONDO</td>\n",
              "      <td>132000</td>\n",
              "      <td>No</td>\n",
              "      <td>No</td>\n",
              "      <td>False</td>\n",
              "      <td>0.498903</td>\n",
              "      <td>URBAN SERVICES DISTRICT</td>\n",
              "      <td>4356.215782</td>\n",
              "      <td>69072.665027</td>\n",
              "      <td>160802.458969</td>\n",
              "      <td>232397.094246</td>\n",
              "      <td>1926.954345</td>\n",
              "      <td>CRAWL</td>\n",
              "      <td>1963.749224</td>\n",
              "      <td>BRICK</td>\n",
              "      <td>C</td>\n",
              "      <td>3.090029</td>\n",
              "      <td>1.886106</td>\n",
              "      <td>0.283981</td>\n",
              "    </tr>\n",
              "    <tr>\n",
              "      <th>1</th>\n",
              "      <td>SINGLE FAMILY</td>\n",
              "      <td>191500</td>\n",
              "      <td>No</td>\n",
              "      <td>No</td>\n",
              "      <td>True</td>\n",
              "      <td>0.170000</td>\n",
              "      <td>URBAN SERVICES DISTRICT</td>\n",
              "      <td>3127.000000</td>\n",
              "      <td>32000.000000</td>\n",
              "      <td>134400.000000</td>\n",
              "      <td>168300.000000</td>\n",
              "      <td>1149.000000</td>\n",
              "      <td>PT BSMT</td>\n",
              "      <td>1941.000000</td>\n",
              "      <td>BRICK</td>\n",
              "      <td>C</td>\n",
              "      <td>2.000000</td>\n",
              "      <td>1.000000</td>\n",
              "      <td>0.000000</td>\n",
              "    </tr>\n",
              "    <tr>\n",
              "      <th>2</th>\n",
              "      <td>SINGLE FAMILY</td>\n",
              "      <td>202000</td>\n",
              "      <td>No</td>\n",
              "      <td>No</td>\n",
              "      <td>True</td>\n",
              "      <td>0.110000</td>\n",
              "      <td>CITY OF BERRY HILL</td>\n",
              "      <td>9126.000000</td>\n",
              "      <td>34000.000000</td>\n",
              "      <td>157800.000000</td>\n",
              "      <td>191800.000000</td>\n",
              "      <td>2090.824950</td>\n",
              "      <td>SLAB</td>\n",
              "      <td>2000.000000</td>\n",
              "      <td>BRICK/FRAME</td>\n",
              "      <td>C</td>\n",
              "      <td>3.000000</td>\n",
              "      <td>2.000000</td>\n",
              "      <td>1.000000</td>\n",
              "    </tr>\n",
              "    <tr>\n",
              "      <th>3</th>\n",
              "      <td>SINGLE FAMILY</td>\n",
              "      <td>32000</td>\n",
              "      <td>No</td>\n",
              "      <td>No</td>\n",
              "      <td>True</td>\n",
              "      <td>0.170000</td>\n",
              "      <td>URBAN SERVICES DISTRICT</td>\n",
              "      <td>3130.000000</td>\n",
              "      <td>25000.000000</td>\n",
              "      <td>243700.000000</td>\n",
              "      <td>268700.000000</td>\n",
              "      <td>2145.600010</td>\n",
              "      <td>FULL BSMT</td>\n",
              "      <td>1948.000000</td>\n",
              "      <td>BRICK/FRAME</td>\n",
              "      <td>B</td>\n",
              "      <td>4.000000</td>\n",
              "      <td>2.000000</td>\n",
              "      <td>0.000000</td>\n",
              "    </tr>\n",
              "    <tr>\n",
              "      <th>4</th>\n",
              "      <td>SINGLE FAMILY</td>\n",
              "      <td>102000</td>\n",
              "      <td>No</td>\n",
              "      <td>No</td>\n",
              "      <td>True</td>\n",
              "      <td>0.340000</td>\n",
              "      <td>URBAN SERVICES DISTRICT</td>\n",
              "      <td>3130.000000</td>\n",
              "      <td>25000.000000</td>\n",
              "      <td>138100.000000</td>\n",
              "      <td>164800.000000</td>\n",
              "      <td>1969.000000</td>\n",
              "      <td>CRAWL</td>\n",
              "      <td>1910.000000</td>\n",
              "      <td>FRAME</td>\n",
              "      <td>C</td>\n",
              "      <td>2.000000</td>\n",
              "      <td>1.000000</td>\n",
              "      <td>0.000000</td>\n",
              "    </tr>\n",
              "  </tbody>\n",
              "</table>\n",
              "</div>\n",
              "      <button class=\"colab-df-convert\" onclick=\"convertToInteractive('df-e8803fc4-75a2-4909-ae2d-2e0b72e4a46e')\"\n",
              "              title=\"Convert this dataframe to an interactive table.\"\n",
              "              style=\"display:none;\">\n",
              "        \n",
              "  <svg xmlns=\"http://www.w3.org/2000/svg\" height=\"24px\"viewBox=\"0 0 24 24\"\n",
              "       width=\"24px\">\n",
              "    <path d=\"M0 0h24v24H0V0z\" fill=\"none\"/>\n",
              "    <path d=\"M18.56 5.44l.94 2.06.94-2.06 2.06-.94-2.06-.94-.94-2.06-.94 2.06-2.06.94zm-11 1L8.5 8.5l.94-2.06 2.06-.94-2.06-.94L8.5 2.5l-.94 2.06-2.06.94zm10 10l.94 2.06.94-2.06 2.06-.94-2.06-.94-.94-2.06-.94 2.06-2.06.94z\"/><path d=\"M17.41 7.96l-1.37-1.37c-.4-.4-.92-.59-1.43-.59-.52 0-1.04.2-1.43.59L10.3 9.45l-7.72 7.72c-.78.78-.78 2.05 0 2.83L4 21.41c.39.39.9.59 1.41.59.51 0 1.02-.2 1.41-.59l7.78-7.78 2.81-2.81c.8-.78.8-2.07 0-2.86zM5.41 20L4 18.59l7.72-7.72 1.47 1.35L5.41 20z\"/>\n",
              "  </svg>\n",
              "      </button>\n",
              "      \n",
              "  <style>\n",
              "    .colab-df-container {\n",
              "      display:flex;\n",
              "      flex-wrap:wrap;\n",
              "      gap: 12px;\n",
              "    }\n",
              "\n",
              "    .colab-df-convert {\n",
              "      background-color: #E8F0FE;\n",
              "      border: none;\n",
              "      border-radius: 50%;\n",
              "      cursor: pointer;\n",
              "      display: none;\n",
              "      fill: #1967D2;\n",
              "      height: 32px;\n",
              "      padding: 0 0 0 0;\n",
              "      width: 32px;\n",
              "    }\n",
              "\n",
              "    .colab-df-convert:hover {\n",
              "      background-color: #E2EBFA;\n",
              "      box-shadow: 0px 1px 2px rgba(60, 64, 67, 0.3), 0px 1px 3px 1px rgba(60, 64, 67, 0.15);\n",
              "      fill: #174EA6;\n",
              "    }\n",
              "\n",
              "    [theme=dark] .colab-df-convert {\n",
              "      background-color: #3B4455;\n",
              "      fill: #D2E3FC;\n",
              "    }\n",
              "\n",
              "    [theme=dark] .colab-df-convert:hover {\n",
              "      background-color: #434B5C;\n",
              "      box-shadow: 0px 1px 3px 1px rgba(0, 0, 0, 0.15);\n",
              "      filter: drop-shadow(0px 1px 2px rgba(0, 0, 0, 0.3));\n",
              "      fill: #FFFFFF;\n",
              "    }\n",
              "  </style>\n",
              "\n",
              "      <script>\n",
              "        const buttonEl =\n",
              "          document.querySelector('#df-e8803fc4-75a2-4909-ae2d-2e0b72e4a46e button.colab-df-convert');\n",
              "        buttonEl.style.display =\n",
              "          google.colab.kernel.accessAllowed ? 'block' : 'none';\n",
              "\n",
              "        async function convertToInteractive(key) {\n",
              "          const element = document.querySelector('#df-e8803fc4-75a2-4909-ae2d-2e0b72e4a46e');\n",
              "          const dataTable =\n",
              "            await google.colab.kernel.invokeFunction('convertToInteractive',\n",
              "                                                     [key], {});\n",
              "          if (!dataTable) return;\n",
              "\n",
              "          const docLinkHtml = 'Like what you see? Visit the ' +\n",
              "            '<a target=\"_blank\" href=https://colab.research.google.com/notebooks/data_table.ipynb>data table notebook</a>'\n",
              "            + ' to learn more about interactive tables.';\n",
              "          element.innerHTML = '';\n",
              "          dataTable['output_type'] = 'display_data';\n",
              "          await google.colab.output.renderOutput(dataTable, element);\n",
              "          const docLink = document.createElement('div');\n",
              "          docLink.innerHTML = docLinkHtml;\n",
              "          element.appendChild(docLink);\n",
              "        }\n",
              "      </script>\n",
              "    </div>\n",
              "  </div>\n",
              "  "
            ]
          },
          "metadata": {},
          "execution_count": 102
        }
      ]
    },
    {
      "cell_type": "code",
      "source": [
        "df.shape"
      ],
      "metadata": {
        "colab": {
          "base_uri": "https://localhost:8080/"
        },
        "id": "roBfunTzH4cW",
        "outputId": "3187c395-29cc-4dd9-cccd-c7e4e5a64018"
      },
      "execution_count": 103,
      "outputs": [
        {
          "output_type": "execute_result",
          "data": {
            "text/plain": [
              "(56636, 19)"
            ]
          },
          "metadata": {},
          "execution_count": 103
        }
      ]
    },
    {
      "cell_type": "markdown",
      "source": [
        "**The Datset consists of 19 features and 56636 records after filling the null values**"
      ],
      "metadata": {
        "id": "rdMI9WymdoUp"
      }
    },
    {
      "cell_type": "code",
      "source": [
        "#Checking for null values of each feature after data cleaning\n",
        "df.isnull().sum()"
      ],
      "metadata": {
        "colab": {
          "base_uri": "https://localhost:8080/"
        },
        "id": "jyLL9Rjlep3G",
        "outputId": "06f43ba2-49b4-4eb8-d29c-724362dbb205"
      },
      "execution_count": 105,
      "outputs": [
        {
          "output_type": "execute_result",
          "data": {
            "text/plain": [
              "Land Use                                 0\n",
              "Sale Price                               0\n",
              "Sold As Vacant                           0\n",
              "Multiple Parcels Involved in Sale        0\n",
              "Is (Property Address = Owner Address)    0\n",
              "Acreage                                  0\n",
              "Tax District                             0\n",
              "Neighborhood                             0\n",
              "Land Value                               0\n",
              "Building Value                           0\n",
              "Total Value                              0\n",
              "Finished Area                            0\n",
              "Foundation Type                          0\n",
              "Year Built                               0\n",
              "Exterior Wall                            0\n",
              "Grade                                    0\n",
              "Bedrooms                                 0\n",
              "Full Bath                                0\n",
              "Half Bath                                0\n",
              "dtype: int64"
            ]
          },
          "metadata": {},
          "execution_count": 105
        }
      ]
    },
    {
      "cell_type": "markdown",
      "source": [
        "#Exploratory Data Analysis (EDA)"
      ],
      "metadata": {
        "id": "yZgbLOG4sCXT"
      }
    },
    {
      "cell_type": "code",
      "source": [
        "sns.set(style='whitegrid')\n",
        "f,ax = plt.subplots(2,2,figsize = (16,12))\n",
        "\n",
        "vis1 = sns.distplot(df['Sale Price'], bins=40, color='red', kde=True, hist_kws=dict(edgecolor='black', linewidth=2),ax= ax[0][0])\n",
        "vis2 = sns.distplot(df['Land Value'], bins=40, color='red', kde=True, hist_kws=dict(edgecolor='black', linewidth=2),ax= ax[0][1])\n",
        "vis3 = sns.distplot(df['Building Value'], bins=40, color='red', kde=True, hist_kws=dict(edgecolor='black', linewidth=2),ax= ax[1][0])\n",
        "vis4 = sns.distplot(df['Total Value'], bins=40, color='red', kde=True, hist_kws=dict(edgecolor='black', linewidth=2),ax= ax[1][1])\n",
        "\n",
        "plt.show()"
      ],
      "metadata": {
        "id": "j9uh2GeIuUCI"
      },
      "execution_count": null,
      "outputs": []
    },
    {
      "cell_type": "code",
      "source": [
        "def scatter_df():\n",
        "  for feature in numerical_features:\n",
        "    if feature != 'Sale Price':\n",
        "      plot = sns.scatterplot(x=df[feature], y=df['Sale Price'])\n",
        "      plt.title('{} / Sale Price'.format(feature), fontsize = 16)\n",
        "      plt.show()\n",
        "\n",
        "scatter_df()"
      ],
      "metadata": {
        "id": "ABWSBeNodfZC"
      },
      "execution_count": null,
      "outputs": []
    },
    {
      "cell_type": "code",
      "source": [
        "df['Land Use'].value_counts()"
      ],
      "metadata": {
        "colab": {
          "base_uri": "https://localhost:8080/"
        },
        "id": "keDoiXrXcrUl",
        "outputId": "0ace1a2e-30f7-499f-a318-6858103a43e4"
      },
      "execution_count": 106,
      "outputs": [
        {
          "output_type": "execute_result",
          "data": {
            "text/plain": [
              "SINGLE FAMILY                                 34268\n",
              "RESIDENTIAL CONDO                             14428\n",
              "VACANT RESIDENTIAL LAND                        5164\n",
              "DUPLEX                                         1389\n",
              "ZERO LOT LINE                                  1049\n",
              "TRIPLEX                                          92\n",
              "QUADPLEX                                         39\n",
              "CONDOMINIUM OFC  OR OTHER COM CONDO              35\n",
              "CHURCH                                           34\n",
              "MOBILE HOME                                      20\n",
              "DORMITORY/BOARDING HOUSE                         19\n",
              "SPLIT CLASS                                      17\n",
              "VACANT COMMERCIAL LAND                           17\n",
              "PARKING LOT                                      11\n",
              "GREENBELT                                        10\n",
              "FOREST                                           10\n",
              "PARSONAGE                                         6\n",
              "GREENBELT/RES_x000D_\\nGRRENBELT/RES               3\n",
              "DAY CARE CENTER                                   2\n",
              "NON-PROFIT CHARITABLE SERVICE                     2\n",
              "APARTMENT: LOW RISE (BUILT SINCE 1960)            2\n",
              "TERMINAL/DISTRIBUTION WAREHOUSE                   2\n",
              "VACANT ZONED MULTI FAMILY                         2\n",
              "RESTURANT/CAFETERIA                               2\n",
              "OFFICE BLDG (ONE OR TWO STORIES)                  2\n",
              "VACANT RURAL LAND                                 2\n",
              "CLUB/UNION HALL/LODGE                             1\n",
              "LIGHT MANUFACTURING                               1\n",
              "ONE STORY GENERAL RETAIL STORE                    1\n",
              "CONVENIENCE MARKET WITHOUT GAS                    1\n",
              "SMALL SERVICE SHOP                                1\n",
              "STRIP SHOPPING CENTER                             1\n",
              "METRO OTHER THAN OFC, SCHOOL,HOSP, OR PARK        1\n",
              "NIGHTCLUB/LOUNGE                                  1\n",
              "MORTUARY/CEMETERY                                 1\n",
              "Name: Land Use, dtype: int64"
            ]
          },
          "metadata": {},
          "execution_count": 106
        }
      ]
    },
    {
      "cell_type": "code",
      "source": [
        "df['Tax District'].value_counts()"
      ],
      "metadata": {
        "colab": {
          "base_uri": "https://localhost:8080/"
        },
        "id": "Jss9XUi-jwWh",
        "outputId": "e4522d64-a3c5-4aa4-f572-b4892c236eea"
      },
      "execution_count": 107,
      "outputs": [
        {
          "output_type": "execute_result",
          "data": {
            "text/plain": [
              "URBAN SERVICES DISTRICT      50645\n",
              "GENERAL SERVICES DISTRICT     4556\n",
              "CITY OF FOREST HILLS           407\n",
              "CITY OF OAK HILL               393\n",
              "CITY OF GOODLETTSVILLE         379\n",
              "CITY OF BELLE MEADE            235\n",
              "CITY OF BERRY HILL              21\n",
              "Name: Tax District, dtype: int64"
            ]
          },
          "metadata": {},
          "execution_count": 107
        }
      ]
    },
    {
      "cell_type": "code",
      "source": [
        "df['Foundation Type'].value_counts()"
      ],
      "metadata": {
        "colab": {
          "base_uri": "https://localhost:8080/"
        },
        "id": "SZy-hfbNX-FL",
        "outputId": "5a99f0a9-bf70-4e7e-9c52-1bc11bcadc74"
      },
      "execution_count": 108,
      "outputs": [
        {
          "output_type": "execute_result",
          "data": {
            "text/plain": [
              "CRAWL        47861\n",
              "FULL BSMT     3917\n",
              "PT BSMT       3200\n",
              "SLAB          1581\n",
              "TYPICAL         40\n",
              "PIERS           37\n",
              "Name: Foundation Type, dtype: int64"
            ]
          },
          "metadata": {},
          "execution_count": 108
        }
      ]
    },
    {
      "cell_type": "code",
      "source": [
        "df['Exterior Wall'].value_counts()"
      ],
      "metadata": {
        "colab": {
          "base_uri": "https://localhost:8080/"
        },
        "id": "yWNYU-CkYGb8",
        "outputId": "bfe741d5-4f60-4461-87f5-e940b8314775"
      },
      "execution_count": 109,
      "outputs": [
        {
          "output_type": "execute_result",
          "data": {
            "text/plain": [
              "BRICK           44413\n",
              "FRAME            8870\n",
              "BRICK/FRAME      2602\n",
              "STONE             331\n",
              "STUCCO            168\n",
              "CONC BLK          113\n",
              "FRAME/STONE       108\n",
              "LOG                15\n",
              "METAL              15\n",
              "PRECAST CONC        1\n",
              "Name: Exterior Wall, dtype: int64"
            ]
          },
          "metadata": {},
          "execution_count": 109
        }
      ]
    },
    {
      "cell_type": "code",
      "source": [
        "df['Grade'].value_counts()"
      ],
      "metadata": {
        "colab": {
          "base_uri": "https://localhost:8080/"
        },
        "id": "TaD20Y9sM6eA",
        "outputId": "6b484fe0-a10d-4b6b-df74-1e584087c985"
      },
      "execution_count": 110,
      "outputs": [
        {
          "output_type": "execute_result",
          "data": {
            "text/plain": [
              "C       49733\n",
              "B        3698\n",
              "D        1984\n",
              "A         598\n",
              "X         523\n",
              "E          60\n",
              "TCC        20\n",
              "IDC         3\n",
              "AAB         3\n",
              "AAC         3\n",
              "OFC         2\n",
              "SRC         1\n",
              "SSC         1\n",
              "SRD         1\n",
              "TFC         1\n",
              "TCB         1\n",
              "TAC         1\n",
              "OMB         1\n",
              "OFB         1\n",
              "TCD         1\n",
              "Name: Grade, dtype: int64"
            ]
          },
          "metadata": {},
          "execution_count": 110
        }
      ]
    },
    {
      "cell_type": "code",
      "source": [
        "#One-hot encoding the categorical columns\n",
        "\n",
        "from sklearn.preprocessing import OneHotEncoder\n",
        "\n",
        "OH_encoder = OneHotEncoder(sparse=False, handle_unknown='ignore', min_frequency=500)\n",
        "OH_cols = pd.DataFrame(OH_encoder.fit_transform(df[categorical_features]))\n",
        "OH_cols.index = df.index\n",
        "df2 = df.drop(categorical_features, axis=1)\n",
        "df = pd.concat([df2, OH_cols], axis=1)"
      ],
      "metadata": {
        "colab": {
          "base_uri": "https://localhost:8080/"
        },
        "id": "7DnDn4Mqrgf0",
        "outputId": "f031064f-3a71-4839-ffd3-d6ecf22c7bff"
      },
      "execution_count": 111,
      "outputs": [
        {
          "output_type": "stream",
          "name": "stderr",
          "text": [
            "/usr/local/lib/python3.10/dist-packages/sklearn/preprocessing/_encoders.py:868: FutureWarning: `sparse` was renamed to `sparse_output` in version 1.2 and will be removed in 1.4. `sparse_output` is ignored unless you leave `sparse` to its default value.\n",
            "  warnings.warn(\n"
          ]
        }
      ]
    },
    {
      "cell_type": "code",
      "source": [
        "df.shape"
      ],
      "metadata": {
        "colab": {
          "base_uri": "https://localhost:8080/"
        },
        "id": "4iS1Pe-Ij2aS",
        "outputId": "141f353f-a2fb-4d11-c829-6add3a325abc"
      },
      "execution_count": 112,
      "outputs": [
        {
          "output_type": "execute_result",
          "data": {
            "text/plain": [
              "(56636, 41)"
            ]
          },
          "metadata": {},
          "execution_count": 112
        }
      ]
    },
    {
      "cell_type": "code",
      "source": [
        "df.columns"
      ],
      "metadata": {
        "colab": {
          "base_uri": "https://localhost:8080/"
        },
        "id": "XOm7tsRFcgTM",
        "outputId": "df622bd5-9bd4-4abd-fc99-b3a4cbdf0efd"
      },
      "execution_count": 113,
      "outputs": [
        {
          "output_type": "execute_result",
          "data": {
            "text/plain": [
              "Index([    'Sale Price',        'Acreage',   'Neighborhood',     'Land Value',\n",
              "       'Building Value',    'Total Value',  'Finished Area',     'Year Built',\n",
              "             'Bedrooms',      'Full Bath',      'Half Bath',                0,\n",
              "                      1,                2,                3,                4,\n",
              "                      5,                6,                7,                8,\n",
              "                      9,               10,               11,               12,\n",
              "                     13,               14,               15,               16,\n",
              "                     17,               18,               19,               20,\n",
              "                     21,               22,               23,               24,\n",
              "                     25,               26,               27,               28,\n",
              "                     29],\n",
              "      dtype='object')"
            ]
          },
          "metadata": {},
          "execution_count": 113
        }
      ]
    },
    {
      "cell_type": "code",
      "source": [
        "target= 'Sale Price'\n",
        "X = df.drop([target], axis=1)\n",
        "y = df[target]"
      ],
      "metadata": {
        "id": "LS4h_Vjj270I"
      },
      "execution_count": 114,
      "outputs": []
    },
    {
      "cell_type": "code",
      "source": [
        "X.columns = X.columns.astype(str)"
      ],
      "metadata": {
        "id": "w4X95uCqcK1w"
      },
      "execution_count": 115,
      "outputs": []
    },
    {
      "cell_type": "code",
      "source": [
        "from sklearn.model_selection import train_test_split\n",
        "X_train, X_test, y_train, y_test = train_test_split(X, y, test_size = 0.2, random_state = 0)\n",
        "\n",
        "print('Original set --> ', X.shape,y.shape, '\\nTraining set --> ', X_train.shape,y_train.shape, '\\nTesting set  --> ', X_test.shape,y_test.shape)"
      ],
      "metadata": {
        "id": "hk8teEAh-ho1",
        "colab": {
          "base_uri": "https://localhost:8080/"
        },
        "outputId": "fb4f97b8-9118-4838-e9a3-e9820c7bbfc3"
      },
      "execution_count": 116,
      "outputs": [
        {
          "output_type": "stream",
          "name": "stdout",
          "text": [
            "Original set -->  (56636, 40) (56636,) \n",
            "Training set -->  (45308, 40) (45308,) \n",
            "Testing set  -->  (11328, 40) (11328,)\n"
          ]
        }
      ]
    },
    {
      "cell_type": "code",
      "source": [
        "from sklearn.linear_model import LinearRegression\n",
        "from sklearn.preprocessing import PolynomialFeatures\n",
        "from sklearn.ensemble import GradientBoostingRegressor\n",
        "from sklearn.preprocessing import StandardScaler\n",
        "from sklearn.metrics import mean_absolute_error\n",
        "\n",
        "from sklearn.linear_model import Ridge\n",
        "from sklearn.linear_model import Lasso\n",
        "from xgboost import XGBRegressor"
      ],
      "metadata": {
        "id": "GcZOr42QzqSR"
      },
      "execution_count": 117,
      "outputs": []
    },
    {
      "cell_type": "code",
      "source": [
        "# Scaling the numerical features using\n",
        "scaler = StandardScaler()\n",
        "X_train_scaled = scaler.fit_transform(X_train.select_dtypes(['int','float']))\n",
        "X_test_scaled = scaler.transform(X_test.select_dtypes(['int', 'float']))"
      ],
      "metadata": {
        "id": "-b40LwQ7VpuW"
      },
      "execution_count": 118,
      "outputs": []
    },
    {
      "cell_type": "code",
      "source": [
        "#Linear Regression\n",
        "model1 = LinearRegression()\n",
        "lr = model1.fit(X_train_scaled, y_train)"
      ],
      "metadata": {
        "id": "7gTX_sUyteT7"
      },
      "execution_count": 119,
      "outputs": []
    },
    {
      "cell_type": "code",
      "source": [
        "print(\"LR Train R2 Score: \", lr.score(X_train_scaled, y_train))\n",
        "print(\"LR Test R2 Score: \", lr.score(X_test_scaled, y_test))"
      ],
      "metadata": {
        "colab": {
          "base_uri": "https://localhost:8080/"
        },
        "id": "EIMuPwYbeSWg",
        "outputId": "c2e57004-ee33-4f87-8d24-36956eeaf4ef"
      },
      "execution_count": 120,
      "outputs": [
        {
          "output_type": "stream",
          "name": "stdout",
          "text": [
            "LR Train R2 Score:  0.12398993914033751\n",
            "LR Test R2 Score:  0.1326444888846452\n"
          ]
        }
      ]
    },
    {
      "cell_type": "code",
      "source": [
        "y_pred_lr = model1.predict(X_test_scaled)"
      ],
      "metadata": {
        "id": "jFHN6jFg9XAv"
      },
      "execution_count": 121,
      "outputs": []
    },
    {
      "cell_type": "code",
      "source": [
        "mae = mean_absolute_error(y_test, y_pred_lr)\n",
        "print('Linear Regression MAE: ', mae)"
      ],
      "metadata": {
        "colab": {
          "base_uri": "https://localhost:8080/"
        },
        "id": "E8hsoDCEpHOs",
        "outputId": "a66cfb8f-3347-4621-eaf5-0020eba954a1"
      },
      "execution_count": 122,
      "outputs": [
        {
          "output_type": "stream",
          "name": "stdout",
          "text": [
            "Linear Regression MAE:  204173.62290015572\n"
          ]
        }
      ]
    },
    {
      "cell_type": "code",
      "source": [
        "poly = PolynomialFeatures(degree=2)\n",
        "X_train_poly = poly.fit_transform(X_train_scaled)\n",
        "X_test_poly = poly.transform(X_test_scaled)"
      ],
      "metadata": {
        "id": "bFdUvGI0zqn-"
      },
      "execution_count": 123,
      "outputs": []
    },
    {
      "cell_type": "code",
      "source": [
        "X_train_poly.shape"
      ],
      "metadata": {
        "id": "VlFePKxU4yLG",
        "colab": {
          "base_uri": "https://localhost:8080/"
        },
        "outputId": "43b2c71e-9f1c-4590-ab93-8067d31851d9"
      },
      "execution_count": 124,
      "outputs": [
        {
          "output_type": "execute_result",
          "data": {
            "text/plain": [
              "(45308, 861)"
            ]
          },
          "metadata": {},
          "execution_count": 124
        }
      ]
    },
    {
      "cell_type": "code",
      "source": [
        "X_test_poly.shape"
      ],
      "metadata": {
        "colab": {
          "base_uri": "https://localhost:8080/"
        },
        "id": "xOn5iH0OWUcM",
        "outputId": "612bf828-ac70-478b-c576-bd3db6eefb03"
      },
      "execution_count": 125,
      "outputs": [
        {
          "output_type": "execute_result",
          "data": {
            "text/plain": [
              "(11328, 861)"
            ]
          },
          "metadata": {},
          "execution_count": 125
        }
      ]
    },
    {
      "cell_type": "code",
      "source": [
        "polymodel = LinearRegression()\n",
        "pf = polymodel.fit(X_train_poly, y_train)"
      ],
      "metadata": {
        "id": "PR5teiwy_K8O"
      },
      "execution_count": 130,
      "outputs": []
    },
    {
      "cell_type": "code",
      "source": [
        "print(\"PLR Train R2 Score: \", pf.score(X_train_poly, y_train))\n",
        "print(\"PLR Test R2 Score: \", pf.score(X_test_poly, y_test))"
      ],
      "metadata": {
        "id": "fwHGfO5b0bqq",
        "colab": {
          "base_uri": "https://localhost:8080/"
        },
        "outputId": "a82eaf2d-7829-484b-da4d-e342de9caa17"
      },
      "execution_count": 131,
      "outputs": [
        {
          "output_type": "stream",
          "name": "stdout",
          "text": [
            "PLR Train R2 Score:  0.2313682805201006\n",
            "PLR Test R2 Score:  -750505656.402976\n"
          ]
        }
      ]
    },
    {
      "cell_type": "code",
      "source": [
        "ridge = Ridge(alpha=1)\n",
        "rd = ridge.fit(X_train_poly, y_train)"
      ],
      "metadata": {
        "id": "Bmyii2rT4Qb8"
      },
      "execution_count": 142,
      "outputs": []
    },
    {
      "cell_type": "code",
      "source": [
        "print(\"RidgeReg Train R2 Score: \", rd.score(X_train_poly, y_train))\n",
        "print(\"RidgeReg Test R2 Score: \", rd.score(X_test_poly, y_test))"
      ],
      "metadata": {
        "id": "dGTnPq4VFUWH",
        "colab": {
          "base_uri": "https://localhost:8080/"
        },
        "outputId": "ef1de930-92e8-470b-c181-6876ce9542d4"
      },
      "execution_count": 143,
      "outputs": [
        {
          "output_type": "stream",
          "name": "stdout",
          "text": [
            "RidgeReg Train R2 Score:  0.23135145710167426\n",
            "RidgeReg Test R2 Score:  0.18576995820314035\n"
          ]
        }
      ]
    },
    {
      "cell_type": "code",
      "source": [
        "y_pred_rd = ridge.predict(X_test_poly)"
      ],
      "metadata": {
        "id": "DjG9XqSgJs4y"
      },
      "execution_count": 144,
      "outputs": []
    },
    {
      "cell_type": "code",
      "source": [
        "mae_rd = mean_absolute_error(y_test, y_pred_rd)\n",
        "print('Ridge Regression MAE: ', mae_rd)"
      ],
      "metadata": {
        "id": "5oeKspE2J0jt",
        "colab": {
          "base_uri": "https://localhost:8080/"
        },
        "outputId": "bf75ab27-b4be-42cb-ba45-1fbbf809c96b"
      },
      "execution_count": 145,
      "outputs": [
        {
          "output_type": "stream",
          "name": "stdout",
          "text": [
            "Ridge Regression MAE:  175004.7933725248\n"
          ]
        }
      ]
    },
    {
      "cell_type": "code",
      "source": [
        "lasso = Lasso(alpha=1)\n",
        "ls = lasso.fit(X_train_poly, y_train)"
      ],
      "metadata": {
        "colab": {
          "base_uri": "https://localhost:8080/"
        },
        "id": "_xbjBJmy2MXp",
        "outputId": "2220a714-7bb4-4903-cc8f-74827e99be9d"
      },
      "execution_count": 146,
      "outputs": [
        {
          "output_type": "stream",
          "name": "stderr",
          "text": [
            "/usr/local/lib/python3.10/dist-packages/sklearn/linear_model/_coordinate_descent.py:631: ConvergenceWarning: Objective did not converge. You might want to increase the number of iterations, check the scale of the features or consider increasing regularisation. Duality gap: 1.571e+16, tolerance: 4.093e+12\n",
            "  model = cd_fast.enet_coordinate_descent(\n"
          ]
        }
      ]
    },
    {
      "cell_type": "code",
      "source": [
        "print(\"Lasso Train R2 Score: \", ls.score(X_train_poly, y_train))\n",
        "print(\"Lasso Test R2 Score: \", ls.score(X_test_poly, y_test))"
      ],
      "metadata": {
        "colab": {
          "base_uri": "https://localhost:8080/"
        },
        "id": "tZ4hp9Md2nY-",
        "outputId": "b5e46272-63c6-46a4-beea-47cf95298cec"
      },
      "execution_count": 147,
      "outputs": [
        {
          "output_type": "stream",
          "name": "stdout",
          "text": [
            "Lasso Train R2 Score:  0.23113610606290025\n",
            "Lasso Test R2 Score:  0.19442603639392875\n"
          ]
        }
      ]
    },
    {
      "cell_type": "code",
      "source": [
        "gbr = GradientBoostingRegressor(n_estimators=2500, learning_rate=0.1, max_depth=2)\n",
        "gbr.fit(X_train_scaled, y_train)"
      ],
      "metadata": {
        "id": "U-E-X0QAqSxh",
        "colab": {
          "base_uri": "https://localhost:8080/",
          "height": 74
        },
        "outputId": "eafa0f3d-854c-4498-da43-66eba6a7dbf8"
      },
      "execution_count": 148,
      "outputs": [
        {
          "output_type": "execute_result",
          "data": {
            "text/plain": [
              "GradientBoostingRegressor(max_depth=2, n_estimators=2500)"
            ],
            "text/html": [
              "<style>#sk-container-id-3 {color: black;background-color: white;}#sk-container-id-3 pre{padding: 0;}#sk-container-id-3 div.sk-toggleable {background-color: white;}#sk-container-id-3 label.sk-toggleable__label {cursor: pointer;display: block;width: 100%;margin-bottom: 0;padding: 0.3em;box-sizing: border-box;text-align: center;}#sk-container-id-3 label.sk-toggleable__label-arrow:before {content: \"▸\";float: left;margin-right: 0.25em;color: #696969;}#sk-container-id-3 label.sk-toggleable__label-arrow:hover:before {color: black;}#sk-container-id-3 div.sk-estimator:hover label.sk-toggleable__label-arrow:before {color: black;}#sk-container-id-3 div.sk-toggleable__content {max-height: 0;max-width: 0;overflow: hidden;text-align: left;background-color: #f0f8ff;}#sk-container-id-3 div.sk-toggleable__content pre {margin: 0.2em;color: black;border-radius: 0.25em;background-color: #f0f8ff;}#sk-container-id-3 input.sk-toggleable__control:checked~div.sk-toggleable__content {max-height: 200px;max-width: 100%;overflow: auto;}#sk-container-id-3 input.sk-toggleable__control:checked~label.sk-toggleable__label-arrow:before {content: \"▾\";}#sk-container-id-3 div.sk-estimator input.sk-toggleable__control:checked~label.sk-toggleable__label {background-color: #d4ebff;}#sk-container-id-3 div.sk-label input.sk-toggleable__control:checked~label.sk-toggleable__label {background-color: #d4ebff;}#sk-container-id-3 input.sk-hidden--visually {border: 0;clip: rect(1px 1px 1px 1px);clip: rect(1px, 1px, 1px, 1px);height: 1px;margin: -1px;overflow: hidden;padding: 0;position: absolute;width: 1px;}#sk-container-id-3 div.sk-estimator {font-family: monospace;background-color: #f0f8ff;border: 1px dotted black;border-radius: 0.25em;box-sizing: border-box;margin-bottom: 0.5em;}#sk-container-id-3 div.sk-estimator:hover {background-color: #d4ebff;}#sk-container-id-3 div.sk-parallel-item::after {content: \"\";width: 100%;border-bottom: 1px solid gray;flex-grow: 1;}#sk-container-id-3 div.sk-label:hover label.sk-toggleable__label {background-color: #d4ebff;}#sk-container-id-3 div.sk-serial::before {content: \"\";position: absolute;border-left: 1px solid gray;box-sizing: border-box;top: 0;bottom: 0;left: 50%;z-index: 0;}#sk-container-id-3 div.sk-serial {display: flex;flex-direction: column;align-items: center;background-color: white;padding-right: 0.2em;padding-left: 0.2em;position: relative;}#sk-container-id-3 div.sk-item {position: relative;z-index: 1;}#sk-container-id-3 div.sk-parallel {display: flex;align-items: stretch;justify-content: center;background-color: white;position: relative;}#sk-container-id-3 div.sk-item::before, #sk-container-id-3 div.sk-parallel-item::before {content: \"\";position: absolute;border-left: 1px solid gray;box-sizing: border-box;top: 0;bottom: 0;left: 50%;z-index: -1;}#sk-container-id-3 div.sk-parallel-item {display: flex;flex-direction: column;z-index: 1;position: relative;background-color: white;}#sk-container-id-3 div.sk-parallel-item:first-child::after {align-self: flex-end;width: 50%;}#sk-container-id-3 div.sk-parallel-item:last-child::after {align-self: flex-start;width: 50%;}#sk-container-id-3 div.sk-parallel-item:only-child::after {width: 0;}#sk-container-id-3 div.sk-dashed-wrapped {border: 1px dashed gray;margin: 0 0.4em 0.5em 0.4em;box-sizing: border-box;padding-bottom: 0.4em;background-color: white;}#sk-container-id-3 div.sk-label label {font-family: monospace;font-weight: bold;display: inline-block;line-height: 1.2em;}#sk-container-id-3 div.sk-label-container {text-align: center;}#sk-container-id-3 div.sk-container {/* jupyter's `normalize.less` sets `[hidden] { display: none; }` but bootstrap.min.css set `[hidden] { display: none !important; }` so we also need the `!important` here to be able to override the default hidden behavior on the sphinx rendered scikit-learn.org. See: https://github.com/scikit-learn/scikit-learn/issues/21755 */display: inline-block !important;position: relative;}#sk-container-id-3 div.sk-text-repr-fallback {display: none;}</style><div id=\"sk-container-id-3\" class=\"sk-top-container\"><div class=\"sk-text-repr-fallback\"><pre>GradientBoostingRegressor(max_depth=2, n_estimators=2500)</pre><b>In a Jupyter environment, please rerun this cell to show the HTML representation or trust the notebook. <br />On GitHub, the HTML representation is unable to render, please try loading this page with nbviewer.org.</b></div><div class=\"sk-container\" hidden><div class=\"sk-item\"><div class=\"sk-estimator sk-toggleable\"><input class=\"sk-toggleable__control sk-hidden--visually\" id=\"sk-estimator-id-3\" type=\"checkbox\" checked><label for=\"sk-estimator-id-3\" class=\"sk-toggleable__label sk-toggleable__label-arrow\">GradientBoostingRegressor</label><div class=\"sk-toggleable__content\"><pre>GradientBoostingRegressor(max_depth=2, n_estimators=2500)</pre></div></div></div></div></div>"
            ]
          },
          "metadata": {},
          "execution_count": 148
        }
      ]
    },
    {
      "cell_type": "code",
      "source": [
        "print(\"GB Train R2 Score: \", gbr.score(X_train_scaled, y_train))\n",
        "print(\"GB Test R2 Score: \", gbr.score(X_test_scaled, y_test))"
      ],
      "metadata": {
        "id": "cV_SkSJABAW8",
        "colab": {
          "base_uri": "https://localhost:8080/"
        },
        "outputId": "81ed91ed-e532-42ba-aa68-4f947efaa179"
      },
      "execution_count": 149,
      "outputs": [
        {
          "output_type": "stream",
          "name": "stdout",
          "text": [
            "GB Train R2 Score:  0.24407136586112022\n",
            "GB Test R2 Score:  0.23265555142821048\n"
          ]
        }
      ]
    },
    {
      "cell_type": "code",
      "source": [
        "xgb = XGBRegressor(n_estimators=2500, learning_rate=0.5, n_jobs=5, reg_alpha=5)\n",
        "xgb.fit(X_train_scaled, y_train)"
      ],
      "metadata": {
        "id": "6tCu8rK6k0Wp",
        "colab": {
          "base_uri": "https://localhost:8080/",
          "height": 248
        },
        "outputId": "4459f82a-2d2a-4b83-f828-871ede17c9e5"
      },
      "execution_count": 150,
      "outputs": [
        {
          "output_type": "execute_result",
          "data": {
            "text/plain": [
              "XGBRegressor(base_score=None, booster=None, callbacks=None,\n",
              "             colsample_bylevel=None, colsample_bynode=None,\n",
              "             colsample_bytree=None, early_stopping_rounds=None,\n",
              "             enable_categorical=False, eval_metric=None, feature_types=None,\n",
              "             gamma=None, gpu_id=None, grow_policy=None, importance_type=None,\n",
              "             interaction_constraints=None, learning_rate=0.5, max_bin=None,\n",
              "             max_cat_threshold=None, max_cat_to_onehot=None,\n",
              "             max_delta_step=None, max_depth=None, max_leaves=None,\n",
              "             min_child_weight=None, missing=nan, monotone_constraints=None,\n",
              "             n_estimators=2500, n_jobs=5, num_parallel_tree=None,\n",
              "             predictor=None, random_state=None, ...)"
            ],
            "text/html": [
              "<style>#sk-container-id-4 {color: black;background-color: white;}#sk-container-id-4 pre{padding: 0;}#sk-container-id-4 div.sk-toggleable {background-color: white;}#sk-container-id-4 label.sk-toggleable__label {cursor: pointer;display: block;width: 100%;margin-bottom: 0;padding: 0.3em;box-sizing: border-box;text-align: center;}#sk-container-id-4 label.sk-toggleable__label-arrow:before {content: \"▸\";float: left;margin-right: 0.25em;color: #696969;}#sk-container-id-4 label.sk-toggleable__label-arrow:hover:before {color: black;}#sk-container-id-4 div.sk-estimator:hover label.sk-toggleable__label-arrow:before {color: black;}#sk-container-id-4 div.sk-toggleable__content {max-height: 0;max-width: 0;overflow: hidden;text-align: left;background-color: #f0f8ff;}#sk-container-id-4 div.sk-toggleable__content pre {margin: 0.2em;color: black;border-radius: 0.25em;background-color: #f0f8ff;}#sk-container-id-4 input.sk-toggleable__control:checked~div.sk-toggleable__content {max-height: 200px;max-width: 100%;overflow: auto;}#sk-container-id-4 input.sk-toggleable__control:checked~label.sk-toggleable__label-arrow:before {content: \"▾\";}#sk-container-id-4 div.sk-estimator input.sk-toggleable__control:checked~label.sk-toggleable__label {background-color: #d4ebff;}#sk-container-id-4 div.sk-label input.sk-toggleable__control:checked~label.sk-toggleable__label {background-color: #d4ebff;}#sk-container-id-4 input.sk-hidden--visually {border: 0;clip: rect(1px 1px 1px 1px);clip: rect(1px, 1px, 1px, 1px);height: 1px;margin: -1px;overflow: hidden;padding: 0;position: absolute;width: 1px;}#sk-container-id-4 div.sk-estimator {font-family: monospace;background-color: #f0f8ff;border: 1px dotted black;border-radius: 0.25em;box-sizing: border-box;margin-bottom: 0.5em;}#sk-container-id-4 div.sk-estimator:hover {background-color: #d4ebff;}#sk-container-id-4 div.sk-parallel-item::after {content: \"\";width: 100%;border-bottom: 1px solid gray;flex-grow: 1;}#sk-container-id-4 div.sk-label:hover label.sk-toggleable__label {background-color: #d4ebff;}#sk-container-id-4 div.sk-serial::before {content: \"\";position: absolute;border-left: 1px solid gray;box-sizing: border-box;top: 0;bottom: 0;left: 50%;z-index: 0;}#sk-container-id-4 div.sk-serial {display: flex;flex-direction: column;align-items: center;background-color: white;padding-right: 0.2em;padding-left: 0.2em;position: relative;}#sk-container-id-4 div.sk-item {position: relative;z-index: 1;}#sk-container-id-4 div.sk-parallel {display: flex;align-items: stretch;justify-content: center;background-color: white;position: relative;}#sk-container-id-4 div.sk-item::before, #sk-container-id-4 div.sk-parallel-item::before {content: \"\";position: absolute;border-left: 1px solid gray;box-sizing: border-box;top: 0;bottom: 0;left: 50%;z-index: -1;}#sk-container-id-4 div.sk-parallel-item {display: flex;flex-direction: column;z-index: 1;position: relative;background-color: white;}#sk-container-id-4 div.sk-parallel-item:first-child::after {align-self: flex-end;width: 50%;}#sk-container-id-4 div.sk-parallel-item:last-child::after {align-self: flex-start;width: 50%;}#sk-container-id-4 div.sk-parallel-item:only-child::after {width: 0;}#sk-container-id-4 div.sk-dashed-wrapped {border: 1px dashed gray;margin: 0 0.4em 0.5em 0.4em;box-sizing: border-box;padding-bottom: 0.4em;background-color: white;}#sk-container-id-4 div.sk-label label {font-family: monospace;font-weight: bold;display: inline-block;line-height: 1.2em;}#sk-container-id-4 div.sk-label-container {text-align: center;}#sk-container-id-4 div.sk-container {/* jupyter's `normalize.less` sets `[hidden] { display: none; }` but bootstrap.min.css set `[hidden] { display: none !important; }` so we also need the `!important` here to be able to override the default hidden behavior on the sphinx rendered scikit-learn.org. See: https://github.com/scikit-learn/scikit-learn/issues/21755 */display: inline-block !important;position: relative;}#sk-container-id-4 div.sk-text-repr-fallback {display: none;}</style><div id=\"sk-container-id-4\" class=\"sk-top-container\"><div class=\"sk-text-repr-fallback\"><pre>XGBRegressor(base_score=None, booster=None, callbacks=None,\n",
              "             colsample_bylevel=None, colsample_bynode=None,\n",
              "             colsample_bytree=None, early_stopping_rounds=None,\n",
              "             enable_categorical=False, eval_metric=None, feature_types=None,\n",
              "             gamma=None, gpu_id=None, grow_policy=None, importance_type=None,\n",
              "             interaction_constraints=None, learning_rate=0.5, max_bin=None,\n",
              "             max_cat_threshold=None, max_cat_to_onehot=None,\n",
              "             max_delta_step=None, max_depth=None, max_leaves=None,\n",
              "             min_child_weight=None, missing=nan, monotone_constraints=None,\n",
              "             n_estimators=2500, n_jobs=5, num_parallel_tree=None,\n",
              "             predictor=None, random_state=None, ...)</pre><b>In a Jupyter environment, please rerun this cell to show the HTML representation or trust the notebook. <br />On GitHub, the HTML representation is unable to render, please try loading this page with nbviewer.org.</b></div><div class=\"sk-container\" hidden><div class=\"sk-item\"><div class=\"sk-estimator sk-toggleable\"><input class=\"sk-toggleable__control sk-hidden--visually\" id=\"sk-estimator-id-4\" type=\"checkbox\" checked><label for=\"sk-estimator-id-4\" class=\"sk-toggleable__label sk-toggleable__label-arrow\">XGBRegressor</label><div class=\"sk-toggleable__content\"><pre>XGBRegressor(base_score=None, booster=None, callbacks=None,\n",
              "             colsample_bylevel=None, colsample_bynode=None,\n",
              "             colsample_bytree=None, early_stopping_rounds=None,\n",
              "             enable_categorical=False, eval_metric=None, feature_types=None,\n",
              "             gamma=None, gpu_id=None, grow_policy=None, importance_type=None,\n",
              "             interaction_constraints=None, learning_rate=0.5, max_bin=None,\n",
              "             max_cat_threshold=None, max_cat_to_onehot=None,\n",
              "             max_delta_step=None, max_depth=None, max_leaves=None,\n",
              "             min_child_weight=None, missing=nan, monotone_constraints=None,\n",
              "             n_estimators=2500, n_jobs=5, num_parallel_tree=None,\n",
              "             predictor=None, random_state=None, ...)</pre></div></div></div></div></div>"
            ]
          },
          "metadata": {},
          "execution_count": 150
        }
      ]
    },
    {
      "cell_type": "code",
      "source": [
        "print(\"XGB R^2 Score: \", xgb.score(X_train_scaled, y_train))\n",
        "print(\"XGB Test R^2 Score: \", xgb.score(X_test_scaled, y_test))"
      ],
      "metadata": {
        "id": "ilvpU4GGeDUe",
        "colab": {
          "base_uri": "https://localhost:8080/"
        },
        "outputId": "2a919ca3-f7d9-45c5-de51-2580c3cdf037"
      },
      "execution_count": 151,
      "outputs": [
        {
          "output_type": "stream",
          "name": "stdout",
          "text": [
            "XGB R^2 Score:  0.26736757115363585\n",
            "XGB Test R^2 Score:  0.24884958814068547\n"
          ]
        }
      ]
    },
    {
      "cell_type": "markdown",
      "source": [
        "#Interpret model predictions with Lime"
      ],
      "metadata": {
        "id": "P7jjVoI34b5U"
      }
    },
    {
      "cell_type": "code",
      "source": [
        "import lime\n",
        "import lime.lime_tabular"
      ],
      "metadata": {
        "id": "gTTec7SKgALz"
      },
      "execution_count": 47,
      "outputs": []
    }
  ]
}